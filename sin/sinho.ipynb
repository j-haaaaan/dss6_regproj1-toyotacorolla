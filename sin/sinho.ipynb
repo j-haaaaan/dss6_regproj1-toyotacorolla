{
 "cells": [
  {
   "cell_type": "code",
   "execution_count": 43,
   "metadata": {
    "collapsed": true
   },
   "outputs": [],
   "source": [
    "pd.set_option('display.max_rows', 500)\n",
    "pd.set_option('display.max_columns', 500)\n",
    "pd.set_option('display.width', 500)"
   ]
  },
  {
   "cell_type": "code",
   "execution_count": 46,
   "metadata": {},
   "outputs": [
    {
     "name": "stdout",
     "output_type": "stream",
     "text": [
      "                            OLS Regression Results                            \n",
      "==============================================================================\n",
      "Dep. Variable:                  Price   R-squared:                       0.171\n",
      "Model:                            OLS   Adj. R-squared:                  0.161\n",
      "Method:                 Least Squares   F-statistic:                     18.82\n",
      "Date:                Mon, 16 Oct 2017   Prob (F-statistic):           1.37e-34\n",
      "Time:                        14:52:22   Log-Likelihood:                -9698.7\n",
      "No. Observations:                1019   AIC:                         1.942e+04\n",
      "Df Residuals:                    1007   BIC:                         1.948e+04\n",
      "Df Model:                          11                                         \n",
      "Covariance Type:            nonrobust                                         \n",
      "================================================================================\n",
      "                   coef    std err          t      P>|t|      [0.025      0.975]\n",
      "--------------------------------------------------------------------------------\n",
      "C(CC)[1300]   8459.4350    248.821     33.998      0.000    7971.168    8947.702\n",
      "C(CC)[1332]   8800.0000   3310.347      2.658      0.008    2304.032    1.53e+04\n",
      "C(CC)[1398]   8950.0000   3310.347      2.704      0.007    2454.032    1.54e+04\n",
      "C(CC)[1400]   1.291e+04    310.042     41.624      0.000    1.23e+04    1.35e+04\n",
      "C(CC)[1587]   8450.0000   2340.769      3.610      0.000    3856.657     1.3e+04\n",
      "C(CC)[1598]   1.985e+04   2340.769      8.480      0.000    1.53e+04    2.44e+04\n",
      "C(CC)[1600]   1.081e+04    134.252     80.500      0.000    1.05e+04    1.11e+04\n",
      "C(CC)[1800]   1.794e+04   1103.449     16.262      0.000    1.58e+04    2.01e+04\n",
      "C(CC)[1900]   1.063e+04    705.768     15.061      0.000    9244.373     1.2e+04\n",
      "C(CC)[1995]   1.995e+04   3310.347      6.027      0.000    1.35e+04    2.64e+04\n",
      "C(CC)[2000]   1.104e+04    367.816     30.022      0.000    1.03e+04    1.18e+04\n",
      "C(CC)[16000]  1.895e+04   3310.347      5.724      0.000    1.25e+04    2.54e+04\n",
      "==============================================================================\n",
      "Omnibus:                      306.234   Durbin-Watson:                   0.591\n",
      "Prob(Omnibus):                  0.000   Jarque-Bera (JB):             1033.060\n",
      "Skew:                           1.445   Prob(JB):                    4.72e-225\n",
      "Kurtosis:                       6.997   Cond. No.                         24.7\n",
      "==============================================================================\n",
      "\n",
      "Warnings:\n",
      "[1] Standard Errors assume that the covariance matrix of the errors is correctly specified.\n"
     ]
    }
   ],
   "source": [
    "df = pd.read_csv('/home/dockeruser/train.csv')\n",
    "\n",
    "model = sm.OLS.from_formula(\"Price ~ C(CC) + 0\", df)\n",
    "result = model.fit()\n",
    "print(result.summary())"
   ]
  },
  {
   "cell_type": "code",
   "execution_count": 31,
   "metadata": {},
   "outputs": [
    {
     "name": "stdout",
     "output_type": "stream",
     "text": [
      "                            OLS Regression Results                            \n",
      "==============================================================================\n",
      "Dep. Variable:                  Price   R-squared:                       0.037\n",
      "Model:                            OLS   Adj. R-squared:                  0.035\n",
      "Method:                 Least Squares   F-statistic:                     13.16\n",
      "Date:                Mon, 16 Oct 2017   Prob (F-statistic):           1.97e-08\n",
      "Time:                        13:35:02   Log-Likelihood:                -9774.5\n",
      "No. Observations:                1019   AIC:                         1.956e+04\n",
      "Df Residuals:                    1015   BIC:                         1.958e+04\n",
      "Df Model:                           3                                         \n",
      "Covariance Type:            nonrobust                                         \n",
      "===============================================================================\n",
      "                  coef    std err          t      P>|t|      [0.025      0.975]\n",
      "-------------------------------------------------------------------------------\n",
      "C(Doors)[2]  7950.0000   3551.919      2.238      0.025     980.054    1.49e+04\n",
      "C(Doors)[3]  1.011e+04    169.524     59.636      0.000    9777.021    1.04e+04\n",
      "C(Doors)[4]  9936.5054    368.317     26.978      0.000    9213.756    1.07e+04\n",
      "C(Doors)[5]  1.147e+04    161.118     71.161      0.000    1.11e+04    1.18e+04\n",
      "==============================================================================\n",
      "Omnibus:                      288.817   Durbin-Watson:                   0.292\n",
      "Prob(Omnibus):                  0.000   Jarque-Bera (JB):              688.125\n",
      "Skew:                           1.524   Prob(JB):                    3.76e-150\n",
      "Kurtosis:                       5.630   Cond. No.                         22.0\n",
      "==============================================================================\n",
      "\n",
      "Warnings:\n",
      "[1] Standard Errors assume that the covariance matrix of the errors is correctly specified.\n"
     ]
    }
   ],
   "source": [
    "df = pd.read_csv('/home/dockeruser/train.csv')\n",
    "\n",
    "model = sm.OLS.from_formula(\"Price ~ C(Doors) + 0\", df)\n",
    "result = model.fit()\n",
    "print(result.summary())\n"
   ]
  },
  {
   "cell_type": "code",
   "execution_count": 7,
   "metadata": {
    "scrolled": true
   },
   "outputs": [
    {
     "name": "stdout",
     "output_type": "stream",
     "text": [
      "                            OLS Regression Results                            \n",
      "==============================================================================\n",
      "Dep. Variable:                  Price   R-squared:                       0.055\n",
      "Model:                            OLS   Adj. R-squared:                  0.046\n",
      "Method:                 Least Squares   F-statistic:                     6.499\n",
      "Date:                Mon, 16 Oct 2017   Prob (F-statistic):           4.93e-09\n",
      "Time:                        12:05:36   Log-Likelihood:                -9765.2\n",
      "No. Observations:                1019   AIC:                         1.955e+04\n",
      "Df Residuals:                    1009   BIC:                         1.960e+04\n",
      "Df Model:                           9                                         \n",
      "Covariance Type:            nonrobust                                         \n",
      "=================================================================================\n",
      "                    coef    std err          t      P>|t|      [0.025      0.975]\n",
      "---------------------------------------------------------------------------------\n",
      "Color[Beige]   8933.3333   2038.156      4.383      0.000    4933.823    1.29e+04\n",
      "Color[Black]   1.135e+04    307.264     36.937      0.000    1.07e+04     1.2e+04\n",
      "Color[Blue]     1.08e+04    245.960     43.911      0.000    1.03e+04    1.13e+04\n",
      "Color[Green]   9980.0604    289.204     34.509      0.000    9412.549    1.05e+04\n",
      "Color[Grey]    1.177e+04    245.365     47.987      0.000    1.13e+04    1.23e+04\n",
      "Color[Red]     9886.3237    245.365     40.292      0.000    9404.839    1.04e+04\n",
      "Color[Silver]  1.124e+04    372.115     30.207      0.000    1.05e+04     1.2e+04\n",
      "Color[Violet]  9950.0000   2496.221      3.986      0.000    5051.621    1.48e+04\n",
      "Color[White]   7830.7143    770.351     10.165      0.000    6319.042    9342.387\n",
      "Color[Yellow]  1.292e+04   2496.221      5.177      0.000    8024.121    1.78e+04\n",
      "==============================================================================\n",
      "Omnibus:                      255.393   Durbin-Watson:                   0.359\n",
      "Prob(Omnibus):                  0.000   Jarque-Bera (JB):              552.962\n",
      "Skew:                           1.393   Prob(JB):                    8.43e-121\n",
      "Kurtosis:                       5.295   Cond. No.                         10.2\n",
      "==============================================================================\n",
      "\n",
      "Warnings:\n",
      "[1] Standard Errors assume that the covariance matrix of the errors is correctly specified.\n"
     ]
    }
   ],
   "source": [
    "df = pd.read_csv('/home/dockeruser/train.csv')\n",
    "\n",
    "model = sm.OLS.from_formula(\"Price ~ Color + 0\", df)\n",
    "result = model.fit()\n",
    "print(result.summary())"
   ]
  },
  {
   "cell_type": "code",
   "execution_count": 9,
   "metadata": {},
   "outputs": [
    {
     "name": "stdout",
     "output_type": "stream",
     "text": [
      "                            OLS Regression Results                            \n",
      "==============================================================================\n",
      "Dep. Variable:                  Price   R-squared:                       0.001\n",
      "Model:                            OLS   Adj. R-squared:                 -0.001\n",
      "Method:                 Least Squares   F-statistic:                    0.2581\n",
      "Date:                Mon, 16 Oct 2017   Prob (F-statistic):              0.773\n",
      "Time:                        12:07:53   Log-Likelihood:                -9793.6\n",
      "No. Observations:                1019   AIC:                         1.959e+04\n",
      "Df Residuals:                    1016   BIC:                         1.961e+04\n",
      "Df Model:                           2                                         \n",
      "Covariance Type:            nonrobust                                         \n",
      "=====================================================================================\n",
      "                        coef    std err          t      P>|t|      [0.025      0.975]\n",
      "-------------------------------------------------------------------------------------\n",
      "Fuel_Type[CNG]     1.014e+04   1205.875      8.408      0.000    7772.598    1.25e+04\n",
      "Fuel_Type[Diesel]  1.092e+04    351.375     31.065      0.000    1.02e+04    1.16e+04\n",
      "Fuel_Type[Petrol]  1.072e+04    120.320     89.125      0.000    1.05e+04     1.1e+04\n",
      "==============================================================================\n",
      "Omnibus:                      296.903   Durbin-Watson:                   0.267\n",
      "Prob(Omnibus):                  0.000   Jarque-Bera (JB):              719.128\n",
      "Skew:                           1.560   Prob(JB):                    6.97e-157\n",
      "Kurtosis:                       5.684   Cond. No.                         10.0\n",
      "==============================================================================\n",
      "\n",
      "Warnings:\n",
      "[1] Standard Errors assume that the covariance matrix of the errors is correctly specified.\n"
     ]
    }
   ],
   "source": [
    "df = pd.read_csv('/home/dockeruser/train.csv')\n",
    "\n",
    "model = sm.OLS.from_formula(\"Price ~ Fuel_Type + 0\", df)\n",
    "result = model.fit()\n",
    "print(result.summary())"
   ]
  },
  {
   "cell_type": "code",
   "execution_count": 12,
   "metadata": {},
   "outputs": [
    {
     "name": "stdout",
     "output_type": "stream",
     "text": [
      "                            OLS Regression Results                            \n",
      "==============================================================================\n",
      "Dep. Variable:                  Price   R-squared:                       0.023\n",
      "Model:                            OLS   Adj. R-squared:                  0.022\n",
      "Method:                 Least Squares   F-statistic:                     24.33\n",
      "Date:                Mon, 16 Oct 2017   Prob (F-statistic):           9.49e-07\n",
      "Time:                        12:09:08   Log-Likelihood:                -9781.9\n",
      "No. Observations:                1019   AIC:                         1.957e+04\n",
      "Df Residuals:                    1017   BIC:                         1.958e+04\n",
      "Df Model:                           1                                         \n",
      "Covariance Type:            nonrobust                                         \n",
      "==============================================================================\n",
      "                 coef    std err          t      P>|t|      [0.025      0.975]\n",
      "------------------------------------------------------------------------------\n",
      "Intercept   9952.7300    194.703     51.118      0.000    9570.665    1.03e+04\n",
      "Met_Color   1173.8345    237.995      4.932      0.000     706.818    1640.851\n",
      "==============================================================================\n",
      "Omnibus:                      288.619   Durbin-Watson:                   0.301\n",
      "Prob(Omnibus):                  0.000   Jarque-Bera (JB):              688.631\n",
      "Skew:                           1.522   Prob(JB):                    2.92e-150\n",
      "Kurtosis:                       5.637   Cond. No.                         3.24\n",
      "==============================================================================\n",
      "\n",
      "Warnings:\n",
      "[1] Standard Errors assume that the covariance matrix of the errors is correctly specified.\n"
     ]
    }
   ],
   "source": [
    "df = pd.read_csv('/home/dockeruser/train.csv')\n",
    "\n",
    "model = sm.OLS.from_formula(\"Price ~ Met_Color \", df)\n",
    "result = model.fit()\n",
    "print(result.summary())"
   ]
  },
  {
   "cell_type": "code",
   "execution_count": 32,
   "metadata": {
    "collapsed": true,
    "scrolled": true
   },
   "outputs": [],
   "source": [
    "cols_cat = ['Mfg_Month', 'Mfg_Year','Fuel_Type', 'Met_Color', 'Color', 'Automatic', 'Mfr_Guarantee',\n",
    "               'BOVAG_Guarantee', 'ABS', 'Airbag_1', 'Airbag_2', 'Airco', 'CC', 'Doors', 'Cylinders', 'Gears', \n",
    "               'Automatic_airco', 'Boardcomputer','CD_Player', 'Central_Lock', 'Powered_Windows', \n",
    "               'Power_Steering', 'Radio', 'Mistlamps', 'Sport_Model', 'Backseat_Divider', \n",
    "               'Metallic_Rim', 'Radio_cassette', 'Parking_Assistant', 'Tow_Bar']"
   ]
  },
  {
   "cell_type": "code",
   "execution_count": 45,
   "metadata": {},
   "outputs": [
    {
     "name": "stdout",
     "output_type": "stream",
     "text": [
      "                            OLS Regression Results                            \n",
      "==============================================================================\n",
      "Dep. Variable:                  Price   R-squared:                       0.132\n",
      "Model:                            OLS   Adj. R-squared:                  0.131\n",
      "Method:                 Least Squares   F-statistic:                     154.4\n",
      "Date:                Mon, 16 Oct 2017   Prob (F-statistic):           4.27e-33\n",
      "Time:                        14:36:30   Log-Likelihood:                -9721.9\n",
      "No. Observations:                1019   AIC:                         1.945e+04\n",
      "Df Residuals:                    1017   BIC:                         1.946e+04\n",
      "Df Model:                           1                                         \n",
      "Covariance Type:            nonrobust                                         \n",
      "===================================================================================\n",
      "                      coef    std err          t      P>|t|      [0.025      0.975]\n",
      "-----------------------------------------------------------------------------------\n",
      "Intercept        9236.7551    160.479     57.558      0.000    8921.848    9551.662\n",
      "Powered_Windows  2647.2899    213.079     12.424      0.000    2229.166    3065.414\n",
      "==============================================================================\n",
      "Omnibus:                      232.609   Durbin-Watson:                   0.462\n",
      "Prob(Omnibus):                  0.000   Jarque-Bera (JB):              499.299\n",
      "Skew:                           1.270   Prob(JB):                    3.79e-109\n",
      "Kurtosis:                       5.303   Cond. No.                         2.81\n",
      "==============================================================================\n",
      "\n",
      "Warnings:\n",
      "[1] Standard Errors assume that the covariance matrix of the errors is correctly specified.\n"
     ]
    }
   ],
   "source": [
    "df = pd.read_csv('/home/dockeruser/train.csv')\n",
    "\n",
    "model = sm.OLS.from_formula(\"Price ~ Powered_Windows \", df)\n",
    "result = model.fit()\n",
    "print(result.summary())"
   ]
  },
  {
   "cell_type": "code",
   "execution_count": 40,
   "metadata": {},
   "outputs": [
    {
     "name": "stdout",
     "output_type": "stream",
     "text": [
      "                            OLS Regression Results                            \n",
      "==============================================================================\n",
      "Dep. Variable:                  Price   R-squared:                       0.005\n",
      "Model:                            OLS   Adj. R-squared:                  0.004\n",
      "Method:                 Least Squares   F-statistic:                     4.733\n",
      "Date:                Mon, 16 Oct 2017   Prob (F-statistic):             0.0298\n",
      "Time:                        13:42:30   Log-Likelihood:                -9791.5\n",
      "No. Observations:                1019   AIC:                         1.959e+04\n",
      "Df Residuals:                    1017   BIC:                         1.960e+04\n",
      "Df Model:                           1                                         \n",
      "Covariance Type:            nonrobust                                         \n",
      "==============================================================================\n",
      "                 coef    std err          t      P>|t|      [0.025      0.975]\n",
      "------------------------------------------------------------------------------\n",
      "Intercept   1.068e+04    116.399     91.735      0.000    1.04e+04    1.09e+04\n",
      "Automatic   1061.4548    487.892      2.176      0.030     104.065    2018.844\n",
      "==============================================================================\n",
      "Omnibus:                      302.236   Durbin-Watson:                   0.265\n",
      "Prob(Omnibus):                  0.000   Jarque-Bera (JB):              749.905\n",
      "Skew:                           1.575   Prob(JB):                    1.45e-163\n",
      "Kurtosis:                       5.781   Cond. No.                         4.33\n",
      "==============================================================================\n",
      "\n",
      "Warnings:\n",
      "[1] Standard Errors assume that the covariance matrix of the errors is correctly specified.\n"
     ]
    }
   ],
   "source": [
    "df = pd.read_csv('/home/dockeruser/train.csv')\n",
    "\n",
    "model = sm.OLS.from_formula(\"Price ~ Automatic\", df)\n",
    "result = model.fit()\n",
    "print(result.summary())"
   ]
  },
  {
   "cell_type": "code",
   "execution_count": 41,
   "metadata": {},
   "outputs": [
    {
     "name": "stdout",
     "output_type": "stream",
     "text": [
      "                            OLS Regression Results                            \n",
      "==============================================================================\n",
      "Dep. Variable:                  Price   R-squared:                       0.027\n",
      "Model:                            OLS   Adj. R-squared:                  0.026\n",
      "Method:                 Least Squares   F-statistic:                     28.47\n",
      "Date:                Mon, 16 Oct 2017   Prob (F-statistic):           1.17e-07\n",
      "Time:                        13:43:11   Log-Likelihood:                -9779.8\n",
      "No. Observations:                1019   AIC:                         1.956e+04\n",
      "Df Residuals:                    1017   BIC:                         1.957e+04\n",
      "Df Model:                           1                                         \n",
      "Covariance Type:            nonrobust                                         \n",
      "=================================================================================\n",
      "                    coef    std err          t      P>|t|      [0.025      0.975]\n",
      "---------------------------------------------------------------------------------\n",
      "Intercept      1.025e+04    144.668     70.839      0.000    9964.230    1.05e+04\n",
      "Mfr_Guarantee  1215.4770    227.792      5.336      0.000     768.480    1662.474\n",
      "==============================================================================\n",
      "Omnibus:                      328.131   Durbin-Watson:                   0.306\n",
      "Prob(Omnibus):                  0.000   Jarque-Bera (JB):              900.059\n",
      "Skew:                           1.662   Prob(JB):                    3.59e-196\n",
      "Kurtosis:                       6.186   Cond. No.                         2.45\n",
      "==============================================================================\n",
      "\n",
      "Warnings:\n",
      "[1] Standard Errors assume that the covariance matrix of the errors is correctly specified.\n"
     ]
    }
   ],
   "source": [
    "df = pd.read_csv('/home/dockeruser/train.csv')\n",
    "\n",
    "model = sm.OLS.from_formula(\"Price ~ Mfr_Guarantee\", df)\n",
    "result = model.fit()\n",
    "print(result.summary())"
   ]
  },
  {
   "cell_type": "code",
   "execution_count": 47,
   "metadata": {
    "collapsed": true
   },
   "outputs": [],
   "source": [
    "df_test1 = df\n",
    "\n",
    "df_test1['CC'] = df_test1['CC'].replace(1332,1300)\n",
    "df_test1['CC'] = df_test1['CC'].replace(1398,1400)\n",
    "df_test1['CC'] = df_test1['CC'].replace(1587,1600)\n",
    "df_test1['CC'] = df_test1['CC'].replace(1598,1600)\n",
    "df_test1['CC'] = df_test1['CC'].replace(1995,2000)\n",
    "df_test1['CC'] = df_test1['CC'].replace(16000,1600)"
   ]
  },
  {
   "cell_type": "code",
   "execution_count": 50,
   "metadata": {},
   "outputs": [
    {
     "name": "stdout",
     "output_type": "stream",
     "text": [
      "                            OLS Regression Results                            \n",
      "==============================================================================\n",
      "Dep. Variable:                  Price   R-squared:                       0.145\n",
      "Model:                            OLS   Adj. R-squared:                  0.141\n",
      "Method:                 Least Squares   F-statistic:                     34.46\n",
      "Date:                Mon, 16 Oct 2017   Prob (F-statistic):           1.35e-32\n",
      "Time:                        15:05:02   Log-Likelihood:                -9713.9\n",
      "No. Observations:                1019   AIC:                         1.944e+04\n",
      "Df Residuals:                    1013   BIC:                         1.947e+04\n",
      "Df Model:                           5                                         \n",
      "Covariance Type:            nonrobust                                         \n",
      "===============================================================================\n",
      "                  coef    std err          t      P>|t|      [0.025      0.975]\n",
      "-------------------------------------------------------------------------------\n",
      "C(CC)[1300]  8461.3483    251.103     33.697      0.000    7968.606    8954.090\n",
      "C(CC)[1400]  1.287e+04    312.402     41.200      0.000    1.23e+04    1.35e+04\n",
      "C(CC)[1600]  1.084e+04    135.311     80.130      0.000    1.06e+04    1.11e+04\n",
      "C(CC)[1800]  1.794e+04   1116.712     16.069      0.000    1.58e+04    2.01e+04\n",
      "C(CC)[1900]  1.063e+04    714.251     14.882      0.000    9227.737     1.2e+04\n",
      "C(CC)[2000]  1.115e+04    369.961     30.141      0.000    1.04e+04    1.19e+04\n",
      "==============================================================================\n",
      "Omnibus:                      293.359   Durbin-Watson:                   0.541\n",
      "Prob(Omnibus):                  0.000   Jarque-Bera (JB):              912.886\n",
      "Skew:                           1.414   Prob(JB):                    5.88e-199\n",
      "Kurtosis:                       6.675   Cond. No.                         8.25\n",
      "==============================================================================\n",
      "\n",
      "Warnings:\n",
      "[1] Standard Errors assume that the covariance matrix of the errors is correctly specified.\n"
     ]
    }
   ],
   "source": [
    "model = sm.OLS.from_formula(\"Price ~ C(CC)+0\", df_test1)\n",
    "result = model.fit()\n",
    "print(result.summary())"
   ]
  },
  {
   "cell_type": "code",
   "execution_count": null,
   "metadata": {
    "collapsed": true
   },
   "outputs": [],
   "source": []
  }
 ],
 "metadata": {
  "kernelspec": {
   "display_name": "Python 3",
   "language": "python",
   "name": "python3"
  },
  "language_info": {
   "codemirror_mode": {
    "name": "ipython",
    "version": 3
   },
   "file_extension": ".py",
   "mimetype": "text/x-python",
   "name": "python",
   "nbconvert_exporter": "python",
   "pygments_lexer": "ipython3",
   "version": "3.6.2"
  }
 },
 "nbformat": 4,
 "nbformat_minor": 2
}
