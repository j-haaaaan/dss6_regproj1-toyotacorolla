{
 "cells": [
  {
   "cell_type": "code",
   "execution_count": 73,
   "metadata": {},
   "outputs": [],
   "source": [
    "import numpy as np\n",
    "import pandas as pd\n",
    "import seaborn as sns\n",
    "import matplotlib.pyplot as plt\n",
    "import scipy.stats as scipystats\n",
    "import scipy as sp\n",
    "import statsmodels.api as sm\n",
    "import statsmodels.stats.api as sms\n",
    "from sklearn.linear_model import LinearRegression\n",
    "from pandas.core import datetools\n",
    "%matplotlib inline\n",
    "\n",
    "pd.set_option('display.max_rows', 500)\n",
    "pd.set_option('display.max_columns', 500)\n",
    "pd.set_option('display.width', 500)"
   ]
  },
  {
   "cell_type": "code",
   "execution_count": 40,
   "metadata": {
    "collapsed": true
   },
   "outputs": [],
   "source": [
    "df = pd.read_csv('c:/chwweww/dss-toyota/data/train.csv')"
   ]
  },
  {
   "cell_type": "code",
   "execution_count": 41,
   "metadata": {
    "scrolled": true
   },
   "outputs": [
    {
     "data": {
      "text/html": [
       "<div>\n",
       "<style>\n",
       "    .dataframe thead tr:only-child th {\n",
       "        text-align: right;\n",
       "    }\n",
       "\n",
       "    .dataframe thead th {\n",
       "        text-align: left;\n",
       "    }\n",
       "\n",
       "    .dataframe tbody tr th {\n",
       "        vertical-align: top;\n",
       "    }\n",
       "</style>\n",
       "<table border=\"1\" class=\"dataframe\">\n",
       "  <thead>\n",
       "    <tr style=\"text-align: right;\">\n",
       "      <th></th>\n",
       "      <th>Id</th>\n",
       "      <th>Model</th>\n",
       "      <th>Price</th>\n",
       "      <th>Age_08_04</th>\n",
       "      <th>Mfg_Month</th>\n",
       "      <th>Mfg_Year</th>\n",
       "      <th>KM</th>\n",
       "      <th>Fuel_Type</th>\n",
       "      <th>HP</th>\n",
       "      <th>Met_Color</th>\n",
       "      <th>Color</th>\n",
       "      <th>Automatic</th>\n",
       "      <th>CC</th>\n",
       "      <th>Doors</th>\n",
       "      <th>Cylinders</th>\n",
       "      <th>Gears</th>\n",
       "      <th>Quarterly_Tax</th>\n",
       "      <th>Weight</th>\n",
       "      <th>Mfr_Guarantee</th>\n",
       "      <th>BOVAG_Guarantee</th>\n",
       "      <th>Guarantee_Period</th>\n",
       "      <th>ABS</th>\n",
       "      <th>Airbag_1</th>\n",
       "      <th>Airbag_2</th>\n",
       "      <th>Airco</th>\n",
       "      <th>Automatic_airco</th>\n",
       "      <th>Boardcomputer</th>\n",
       "      <th>CD_Player</th>\n",
       "      <th>Central_Lock</th>\n",
       "      <th>Powered_Windows</th>\n",
       "      <th>Power_Steering</th>\n",
       "      <th>Radio</th>\n",
       "      <th>Mistlamps</th>\n",
       "      <th>Sport_Model</th>\n",
       "      <th>Backseat_Divider</th>\n",
       "      <th>Metallic_Rim</th>\n",
       "      <th>Radio_cassette</th>\n",
       "      <th>Parking_Assistant</th>\n",
       "      <th>Tow_Bar</th>\n",
       "    </tr>\n",
       "  </thead>\n",
       "  <tbody>\n",
       "    <tr>\n",
       "      <th>0</th>\n",
       "      <td>1</td>\n",
       "      <td>TOYOTA Corolla 2.0 D4D HATCHB TERRA 2/3-Doors</td>\n",
       "      <td>13500</td>\n",
       "      <td>23</td>\n",
       "      <td>10</td>\n",
       "      <td>2002</td>\n",
       "      <td>46986</td>\n",
       "      <td>Diesel</td>\n",
       "      <td>90</td>\n",
       "      <td>1</td>\n",
       "      <td>Blue</td>\n",
       "      <td>0</td>\n",
       "      <td>2000</td>\n",
       "      <td>3</td>\n",
       "      <td>4</td>\n",
       "      <td>5</td>\n",
       "      <td>210</td>\n",
       "      <td>1165</td>\n",
       "      <td>0</td>\n",
       "      <td>1</td>\n",
       "      <td>3</td>\n",
       "      <td>1</td>\n",
       "      <td>1</td>\n",
       "      <td>1</td>\n",
       "      <td>0</td>\n",
       "      <td>0</td>\n",
       "      <td>1</td>\n",
       "      <td>0</td>\n",
       "      <td>1</td>\n",
       "      <td>1</td>\n",
       "      <td>1</td>\n",
       "      <td>0</td>\n",
       "      <td>0</td>\n",
       "      <td>0</td>\n",
       "      <td>1</td>\n",
       "      <td>0</td>\n",
       "      <td>0</td>\n",
       "      <td>0</td>\n",
       "      <td>0</td>\n",
       "    </tr>\n",
       "    <tr>\n",
       "      <th>1</th>\n",
       "      <td>2</td>\n",
       "      <td>TOYOTA Corolla 2.0 D4D HATCHB TERRA 2/3-Doors</td>\n",
       "      <td>13750</td>\n",
       "      <td>23</td>\n",
       "      <td>10</td>\n",
       "      <td>2002</td>\n",
       "      <td>72937</td>\n",
       "      <td>Diesel</td>\n",
       "      <td>90</td>\n",
       "      <td>1</td>\n",
       "      <td>Silver</td>\n",
       "      <td>0</td>\n",
       "      <td>2000</td>\n",
       "      <td>3</td>\n",
       "      <td>4</td>\n",
       "      <td>5</td>\n",
       "      <td>210</td>\n",
       "      <td>1165</td>\n",
       "      <td>0</td>\n",
       "      <td>1</td>\n",
       "      <td>3</td>\n",
       "      <td>1</td>\n",
       "      <td>1</td>\n",
       "      <td>1</td>\n",
       "      <td>1</td>\n",
       "      <td>0</td>\n",
       "      <td>1</td>\n",
       "      <td>1</td>\n",
       "      <td>1</td>\n",
       "      <td>0</td>\n",
       "      <td>1</td>\n",
       "      <td>0</td>\n",
       "      <td>0</td>\n",
       "      <td>0</td>\n",
       "      <td>1</td>\n",
       "      <td>0</td>\n",
       "      <td>0</td>\n",
       "      <td>0</td>\n",
       "      <td>0</td>\n",
       "    </tr>\n",
       "    <tr>\n",
       "      <th>2</th>\n",
       "      <td>5</td>\n",
       "      <td>TOYOTA Corolla 2.0 D4D HATCHB SOL 2/3-Doors</td>\n",
       "      <td>13750</td>\n",
       "      <td>30</td>\n",
       "      <td>3</td>\n",
       "      <td>2002</td>\n",
       "      <td>38500</td>\n",
       "      <td>Diesel</td>\n",
       "      <td>90</td>\n",
       "      <td>0</td>\n",
       "      <td>Black</td>\n",
       "      <td>0</td>\n",
       "      <td>2000</td>\n",
       "      <td>3</td>\n",
       "      <td>4</td>\n",
       "      <td>5</td>\n",
       "      <td>210</td>\n",
       "      <td>1170</td>\n",
       "      <td>1</td>\n",
       "      <td>1</td>\n",
       "      <td>3</td>\n",
       "      <td>1</td>\n",
       "      <td>1</td>\n",
       "      <td>1</td>\n",
       "      <td>1</td>\n",
       "      <td>0</td>\n",
       "      <td>1</td>\n",
       "      <td>0</td>\n",
       "      <td>1</td>\n",
       "      <td>1</td>\n",
       "      <td>1</td>\n",
       "      <td>0</td>\n",
       "      <td>1</td>\n",
       "      <td>0</td>\n",
       "      <td>1</td>\n",
       "      <td>0</td>\n",
       "      <td>0</td>\n",
       "      <td>0</td>\n",
       "      <td>0</td>\n",
       "    </tr>\n",
       "    <tr>\n",
       "      <th>3</th>\n",
       "      <td>11</td>\n",
       "      <td>TOYOTA Corolla 1.8 VVTL-i T-Sport 3-Drs 2/3-Doors</td>\n",
       "      <td>20950</td>\n",
       "      <td>25</td>\n",
       "      <td>8</td>\n",
       "      <td>2002</td>\n",
       "      <td>31461</td>\n",
       "      <td>Petrol</td>\n",
       "      <td>192</td>\n",
       "      <td>0</td>\n",
       "      <td>Silver</td>\n",
       "      <td>0</td>\n",
       "      <td>1800</td>\n",
       "      <td>3</td>\n",
       "      <td>4</td>\n",
       "      <td>6</td>\n",
       "      <td>100</td>\n",
       "      <td>1185</td>\n",
       "      <td>1</td>\n",
       "      <td>1</td>\n",
       "      <td>12</td>\n",
       "      <td>1</td>\n",
       "      <td>1</td>\n",
       "      <td>1</td>\n",
       "      <td>1</td>\n",
       "      <td>1</td>\n",
       "      <td>0</td>\n",
       "      <td>1</td>\n",
       "      <td>1</td>\n",
       "      <td>1</td>\n",
       "      <td>1</td>\n",
       "      <td>0</td>\n",
       "      <td>0</td>\n",
       "      <td>0</td>\n",
       "      <td>0</td>\n",
       "      <td>1</td>\n",
       "      <td>0</td>\n",
       "      <td>0</td>\n",
       "      <td>0</td>\n",
       "    </tr>\n",
       "    <tr>\n",
       "      <th>4</th>\n",
       "      <td>13</td>\n",
       "      <td>TOYOTA Corolla 1.8 16V VVTLI 3DR T SPORT 2/3-D...</td>\n",
       "      <td>19600</td>\n",
       "      <td>25</td>\n",
       "      <td>8</td>\n",
       "      <td>2002</td>\n",
       "      <td>32189</td>\n",
       "      <td>Petrol</td>\n",
       "      <td>192</td>\n",
       "      <td>0</td>\n",
       "      <td>Red</td>\n",
       "      <td>0</td>\n",
       "      <td>1800</td>\n",
       "      <td>3</td>\n",
       "      <td>4</td>\n",
       "      <td>6</td>\n",
       "      <td>100</td>\n",
       "      <td>1185</td>\n",
       "      <td>1</td>\n",
       "      <td>1</td>\n",
       "      <td>3</td>\n",
       "      <td>1</td>\n",
       "      <td>1</td>\n",
       "      <td>1</td>\n",
       "      <td>1</td>\n",
       "      <td>1</td>\n",
       "      <td>1</td>\n",
       "      <td>0</td>\n",
       "      <td>1</td>\n",
       "      <td>1</td>\n",
       "      <td>1</td>\n",
       "      <td>0</td>\n",
       "      <td>1</td>\n",
       "      <td>1</td>\n",
       "      <td>1</td>\n",
       "      <td>1</td>\n",
       "      <td>0</td>\n",
       "      <td>0</td>\n",
       "      <td>0</td>\n",
       "    </tr>\n",
       "    <tr>\n",
       "      <th>5</th>\n",
       "      <td>14</td>\n",
       "      <td>TOYOTA Corolla 1.8 16V VVTLI 3DR T SPORT 2/3-D...</td>\n",
       "      <td>21500</td>\n",
       "      <td>31</td>\n",
       "      <td>2</td>\n",
       "      <td>2002</td>\n",
       "      <td>23000</td>\n",
       "      <td>Petrol</td>\n",
       "      <td>192</td>\n",
       "      <td>1</td>\n",
       "      <td>Black</td>\n",
       "      <td>0</td>\n",
       "      <td>1800</td>\n",
       "      <td>3</td>\n",
       "      <td>4</td>\n",
       "      <td>6</td>\n",
       "      <td>100</td>\n",
       "      <td>1185</td>\n",
       "      <td>1</td>\n",
       "      <td>1</td>\n",
       "      <td>3</td>\n",
       "      <td>1</td>\n",
       "      <td>1</td>\n",
       "      <td>1</td>\n",
       "      <td>1</td>\n",
       "      <td>1</td>\n",
       "      <td>1</td>\n",
       "      <td>1</td>\n",
       "      <td>1</td>\n",
       "      <td>1</td>\n",
       "      <td>1</td>\n",
       "      <td>0</td>\n",
       "      <td>1</td>\n",
       "      <td>1</td>\n",
       "      <td>1</td>\n",
       "      <td>1</td>\n",
       "      <td>0</td>\n",
       "      <td>0</td>\n",
       "      <td>0</td>\n",
       "    </tr>\n",
       "    <tr>\n",
       "      <th>6</th>\n",
       "      <td>16</td>\n",
       "      <td>TOYOTA Corolla 1.8 16V VVTLI 3DR T SPORT 2/3-D...</td>\n",
       "      <td>22000</td>\n",
       "      <td>28</td>\n",
       "      <td>5</td>\n",
       "      <td>2002</td>\n",
       "      <td>18739</td>\n",
       "      <td>Petrol</td>\n",
       "      <td>192</td>\n",
       "      <td>0</td>\n",
       "      <td>Grey</td>\n",
       "      <td>0</td>\n",
       "      <td>1800</td>\n",
       "      <td>3</td>\n",
       "      <td>4</td>\n",
       "      <td>6</td>\n",
       "      <td>100</td>\n",
       "      <td>1185</td>\n",
       "      <td>0</td>\n",
       "      <td>1</td>\n",
       "      <td>3</td>\n",
       "      <td>1</td>\n",
       "      <td>1</td>\n",
       "      <td>1</td>\n",
       "      <td>1</td>\n",
       "      <td>1</td>\n",
       "      <td>1</td>\n",
       "      <td>0</td>\n",
       "      <td>1</td>\n",
       "      <td>1</td>\n",
       "      <td>1</td>\n",
       "      <td>0</td>\n",
       "      <td>1</td>\n",
       "      <td>1</td>\n",
       "      <td>1</td>\n",
       "      <td>1</td>\n",
       "      <td>0</td>\n",
       "      <td>0</td>\n",
       "      <td>0</td>\n",
       "    </tr>\n",
       "    <tr>\n",
       "      <th>7</th>\n",
       "      <td>17</td>\n",
       "      <td>TOYOTA Corolla 1.8 16V VVTLI 3DR T SPORT 2/3-...</td>\n",
       "      <td>22750</td>\n",
       "      <td>30</td>\n",
       "      <td>3</td>\n",
       "      <td>2002</td>\n",
       "      <td>34000</td>\n",
       "      <td>Petrol</td>\n",
       "      <td>192</td>\n",
       "      <td>1</td>\n",
       "      <td>Grey</td>\n",
       "      <td>0</td>\n",
       "      <td>1800</td>\n",
       "      <td>3</td>\n",
       "      <td>4</td>\n",
       "      <td>5</td>\n",
       "      <td>100</td>\n",
       "      <td>1185</td>\n",
       "      <td>0</td>\n",
       "      <td>1</td>\n",
       "      <td>3</td>\n",
       "      <td>1</td>\n",
       "      <td>1</td>\n",
       "      <td>1</td>\n",
       "      <td>1</td>\n",
       "      <td>1</td>\n",
       "      <td>1</td>\n",
       "      <td>1</td>\n",
       "      <td>1</td>\n",
       "      <td>1</td>\n",
       "      <td>1</td>\n",
       "      <td>0</td>\n",
       "      <td>1</td>\n",
       "      <td>0</td>\n",
       "      <td>1</td>\n",
       "      <td>1</td>\n",
       "      <td>0</td>\n",
       "      <td>0</td>\n",
       "      <td>0</td>\n",
       "    </tr>\n",
       "    <tr>\n",
       "      <th>8</th>\n",
       "      <td>18</td>\n",
       "      <td>TOYOTA Corolla 1.6 VVTI Linea Terra Comfort 2...</td>\n",
       "      <td>17950</td>\n",
       "      <td>24</td>\n",
       "      <td>9</td>\n",
       "      <td>2002</td>\n",
       "      <td>21716</td>\n",
       "      <td>Petrol</td>\n",
       "      <td>110</td>\n",
       "      <td>1</td>\n",
       "      <td>Blue</td>\n",
       "      <td>0</td>\n",
       "      <td>1600</td>\n",
       "      <td>3</td>\n",
       "      <td>4</td>\n",
       "      <td>5</td>\n",
       "      <td>85</td>\n",
       "      <td>1105</td>\n",
       "      <td>0</td>\n",
       "      <td>0</td>\n",
       "      <td>18</td>\n",
       "      <td>1</td>\n",
       "      <td>1</td>\n",
       "      <td>0</td>\n",
       "      <td>1</td>\n",
       "      <td>0</td>\n",
       "      <td>0</td>\n",
       "      <td>0</td>\n",
       "      <td>1</td>\n",
       "      <td>1</td>\n",
       "      <td>1</td>\n",
       "      <td>1</td>\n",
       "      <td>0</td>\n",
       "      <td>0</td>\n",
       "      <td>0</td>\n",
       "      <td>0</td>\n",
       "      <td>1</td>\n",
       "      <td>0</td>\n",
       "      <td>1</td>\n",
       "    </tr>\n",
       "    <tr>\n",
       "      <th>9</th>\n",
       "      <td>20</td>\n",
       "      <td>TOYOTA Corolla 1.6 16V VVT I 3DR TERRA 2/3-Doors</td>\n",
       "      <td>16950</td>\n",
       "      <td>30</td>\n",
       "      <td>3</td>\n",
       "      <td>2002</td>\n",
       "      <td>64359</td>\n",
       "      <td>Petrol</td>\n",
       "      <td>110</td>\n",
       "      <td>1</td>\n",
       "      <td>Grey</td>\n",
       "      <td>0</td>\n",
       "      <td>1600</td>\n",
       "      <td>3</td>\n",
       "      <td>4</td>\n",
       "      <td>5</td>\n",
       "      <td>85</td>\n",
       "      <td>1105</td>\n",
       "      <td>1</td>\n",
       "      <td>1</td>\n",
       "      <td>3</td>\n",
       "      <td>1</td>\n",
       "      <td>1</td>\n",
       "      <td>1</td>\n",
       "      <td>1</td>\n",
       "      <td>0</td>\n",
       "      <td>1</td>\n",
       "      <td>1</td>\n",
       "      <td>1</td>\n",
       "      <td>1</td>\n",
       "      <td>1</td>\n",
       "      <td>0</td>\n",
       "      <td>0</td>\n",
       "      <td>1</td>\n",
       "      <td>1</td>\n",
       "      <td>0</td>\n",
       "      <td>0</td>\n",
       "      <td>0</td>\n",
       "      <td>0</td>\n",
       "    </tr>\n",
       "  </tbody>\n",
       "</table>\n",
       "</div>"
      ],
      "text/plain": [
       "   Id                                              Model  Price  Age_08_04  Mfg_Month  Mfg_Year     KM Fuel_Type   HP  Met_Color   Color  Automatic    CC  Doors  Cylinders  Gears  Quarterly_Tax  Weight  Mfr_Guarantee  BOVAG_Guarantee  Guarantee_Period  ABS  Airbag_1  Airbag_2  Airco  Automatic_airco  Boardcomputer  CD_Player  Central_Lock  Powered_Windows  Power_Steering  Radio  Mistlamps  Sport_Model  Backseat_Divider  Metallic_Rim  Radio_cassette  Parking_Assistant  Tow_Bar\n",
       "0   1      TOYOTA Corolla 2.0 D4D HATCHB TERRA 2/3-Doors  13500         23         10      2002  46986    Diesel   90          1    Blue          0  2000      3          4      5            210    1165              0                1                 3    1         1         1      0                0              1          0             1                1               1      0          0            0                 1             0               0                  0        0\n",
       "1   2      TOYOTA Corolla 2.0 D4D HATCHB TERRA 2/3-Doors  13750         23         10      2002  72937    Diesel   90          1  Silver          0  2000      3          4      5            210    1165              0                1                 3    1         1         1      1                0              1          1             1                0               1      0          0            0                 1             0               0                  0        0\n",
       "2   5        TOYOTA Corolla 2.0 D4D HATCHB SOL 2/3-Doors  13750         30          3      2002  38500    Diesel   90          0   Black          0  2000      3          4      5            210    1170              1                1                 3    1         1         1      1                0              1          0             1                1               1      0          1            0                 1             0               0                  0        0\n",
       "3  11  TOYOTA Corolla 1.8 VVTL-i T-Sport 3-Drs 2/3-Doors  20950         25          8      2002  31461    Petrol  192          0  Silver          0  1800      3          4      6            100    1185              1                1                12    1         1         1      1                1              0          1             1                1               1      0          0            0                 0             1               0                  0        0\n",
       "4  13  TOYOTA Corolla 1.8 16V VVTLI 3DR T SPORT 2/3-D...  19600         25          8      2002  32189    Petrol  192          0     Red          0  1800      3          4      6            100    1185              1                1                 3    1         1         1      1                1              1          0             1                1               1      0          1            1                 1             1               0                  0        0\n",
       "5  14  TOYOTA Corolla 1.8 16V VVTLI 3DR T SPORT 2/3-D...  21500         31          2      2002  23000    Petrol  192          1   Black          0  1800      3          4      6            100    1185              1                1                 3    1         1         1      1                1              1          1             1                1               1      0          1            1                 1             1               0                  0        0\n",
       "6  16  TOYOTA Corolla 1.8 16V VVTLI 3DR T SPORT 2/3-D...  22000         28          5      2002  18739    Petrol  192          0    Grey          0  1800      3          4      6            100    1185              0                1                 3    1         1         1      1                1              1          0             1                1               1      0          1            1                 1             1               0                  0        0\n",
       "7  17   TOYOTA Corolla 1.8 16V VVTLI 3DR T SPORT 2/3-...  22750         30          3      2002  34000    Petrol  192          1    Grey          0  1800      3          4      5            100    1185              0                1                 3    1         1         1      1                1              1          1             1                1               1      0          1            0                 1             1               0                  0        0\n",
       "8  18   TOYOTA Corolla 1.6 VVTI Linea Terra Comfort 2...  17950         24          9      2002  21716    Petrol  110          1    Blue          0  1600      3          4      5             85    1105              0                0                18    1         1         0      1                0              0          0             1                1               1      1          0            0                 0             0               1                  0        1\n",
       "9  20   TOYOTA Corolla 1.6 16V VVT I 3DR TERRA 2/3-Doors  16950         30          3      2002  64359    Petrol  110          1    Grey          0  1600      3          4      5             85    1105              1                1                 3    1         1         1      1                0              1          1             1                1               1      0          0            1                 1             0               0                  0        0"
      ]
     },
     "execution_count": 41,
     "metadata": {},
     "output_type": "execute_result"
    }
   ],
   "source": [
    "df.head(10)"
   ]
  },
  {
   "cell_type": "code",
   "execution_count": 42,
   "metadata": {
    "collapsed": true
   },
   "outputs": [],
   "source": [
    "cols_real = ['Age_08_04', 'KM', 'HP', 'Quarterly_Tax', 'Weight', 'Guarantee_Period']\n",
    "\n",
    "cols_cat = ['Mfg_Month', 'Mfg_Year','Fuel_Type', 'Met_Color', 'Color', 'Automatic', 'Mfr_Guarantee',\n",
    "               'BOVAG_Guarantee', 'ABS', 'Airbag_1', 'Airbag_2', 'Airco', 'CC', 'Doors', 'Cylinders', 'Gears', \n",
    "               'Automatic_airco', 'Boardcomputer','CD_Player', 'Central_Lock', 'Powered_Windows', \n",
    "               'Power_Steering', 'Radio', 'Mistlamps', 'Sport_Model', 'Backseat_Divider', \n",
    "               'Metallic_Rim', 'Radio_cassette', 'Parking_Assistant', 'Tow_Bar']"
   ]
  },
  {
   "cell_type": "code",
   "execution_count": 43,
   "metadata": {
    "collapsed": true
   },
   "outputs": [],
   "source": [
    "def T_Test(var):\n",
    "    tmp_list = df[var].unique()\n",
    "    print(sp.stats.ttest_ind(df['Price'][df[var] == tmp_list[0]], df['Price'][df[var] == tmp_list[1]]))"
   ]
  },
  {
   "cell_type": "code",
   "execution_count": 44,
   "metadata": {
    "collapsed": true
   },
   "outputs": [],
   "source": [
    "cols_cat = [ 'Met_Color', 'Automatic', 'Mfr_Guarantee',\n",
    "               'BOVAG_Guarantee', 'ABS', 'Airbag_1', 'Airbag_2', 'Airco', 'CC',\n",
    "               'Automatic_airco', 'Boardcomputer','CD_Player', 'Central_Lock', 'Powered_Windows', \n",
    "               'Power_Steering', 'Radio', 'Mistlamps', 'Sport_Model', 'Backseat_Divider', \n",
    "               'Metallic_Rim', 'Radio_cassette', 'Parking_Assistant', 'Tow_Bar']"
   ]
  },
  {
   "cell_type": "code",
   "execution_count": 45,
   "metadata": {
    "scrolled": true
   },
   "outputs": [
    {
     "name": "stdout",
     "output_type": "stream",
     "text": [
      "Ttest_indResult(statistic=4.9321888011522619, pvalue=9.4929692835439989e-07)\n",
      "Met_Color None\n",
      "------------------------------\n",
      "Ttest_indResult(statistic=-2.175595606130607, pvalue=0.029815204892556121)\n",
      "Automatic None\n",
      "------------------------------\n",
      "Ttest_indResult(statistic=-5.3359016429594499, pvalue=1.1719842372289647e-07)\n",
      "Mfr_Guarantee None\n",
      "------------------------------\n",
      "Ttest_indResult(statistic=1.1333350945458247, pvalue=0.25734065729146599)\n",
      "BOVAG_Guarantee None\n",
      "------------------------------\n",
      "Ttest_indResult(statistic=10.190351834509976, pvalue=2.7530011080058277e-23)\n",
      "ABS None\n",
      "------------------------------\n",
      "Ttest_indResult(statistic=3.0626046564935661, pvalue=0.0022518974691424407)\n",
      "Airbag_1 None\n",
      "------------------------------\n",
      "Ttest_indResult(statistic=8.041180552760963, pvalue=2.4595991981500404e-15)\n",
      "Airbag_2 None\n",
      "------------------------------\n",
      "Ttest_indResult(statistic=-15.816105021217785, pvalue=1.5260436415245136e-50)\n",
      "Airco None\n",
      "------------------------------\n",
      "Ttest_indResult(statistic=-3.4029686983590604, pvalue=0.001005108740972241)\n",
      "CC None\n",
      "------------------------------\n",
      "Ttest_indResult(statistic=-23.61401813260326, pvalue=1.2061083539235714e-98)\n",
      "Automatic_airco None\n",
      "------------------------------\n",
      "Ttest_indResult(statistic=24.208044235471736, pvalue=1.3363023576716683e-102)\n",
      "Boardcomputer None\n",
      "------------------------------\n",
      "Ttest_indResult(statistic=-18.072247539204565, pvalue=1.5862944057625397e-63)\n",
      "CD_Player None\n",
      "------------------------------\n",
      "Ttest_indResult(statistic=12.353056653545067, pvalue=9.1982325517981845e-33)\n",
      "Central_Lock None\n",
      "------------------------------\n",
      "Ttest_indResult(statistic=12.423996488581592, pvalue=4.2652652372697098e-33)\n",
      "Powered_Windows None\n",
      "------------------------------\n",
      "Ttest_indResult(statistic=2.0756259782425004, pvalue=0.038179412536347081)\n",
      "Power_Steering None\n",
      "------------------------------\n",
      "Ttest_indResult(statistic=0.75758534973829339, pvalue=0.44887474762760249)\n",
      "Radio None\n",
      "------------------------------\n",
      "Ttest_indResult(statistic=-7.4580149115949359, pvalue=1.8787194052685575e-13)\n",
      "Mistlamps None\n",
      "------------------------------\n",
      "Ttest_indResult(statistic=-5.3730400886536565, pvalue=9.5979405314502078e-08)\n",
      "Sport_Model None\n",
      "------------------------------\n",
      "Ttest_indResult(statistic=2.5943763248085689, pvalue=0.0096125809070228153)\n",
      "Backseat_Divider None\n",
      "------------------------------\n",
      "Ttest_indResult(statistic=-4.4102801948073305, pvalue=1.142235445747723e-05)\n",
      "Metallic_Rim None\n",
      "------------------------------\n",
      "Ttest_indResult(statistic=0.78239992535969538, pvalue=0.43416170635677664)\n",
      "Radio_cassette None\n",
      "------------------------------\n",
      "Ttest_indResult(statistic=-1.4298365866599518, pvalue=0.15307104735064891)\n",
      "Parking_Assistant None\n",
      "------------------------------\n",
      "Ttest_indResult(statistic=5.0647151157111381, pvalue=4.854567527347549e-07)\n",
      "Tow_Bar None\n",
      "------------------------------\n"
     ]
    }
   ],
   "source": [
    "for i in range(len(cols_cat)):\n",
    "        print(cols_cat[i],T_Test(cols_cat[i]))\n",
    "        print('-'*30)"
   ]
  },
  {
   "cell_type": "code",
   "execution_count": 46,
   "metadata": {
    "collapsed": true
   },
   "outputs": [],
   "source": [
    "engine =( \"Price ~ scale(Age_08_04) + scale(KM) + scale(Weight) + Airco + Automatic_airco + CD_Player + Central_Lock + Boardcomputer\")"
   ]
  },
  {
   "cell_type": "code",
   "execution_count": 82,
   "metadata": {
    "scrolled": false
   },
   "outputs": [
    {
     "name": "stdout",
     "output_type": "stream",
     "text": [
      "                            OLS Regression Results                            \n",
      "==============================================================================\n",
      "Dep. Variable:                  Price   R-squared:                       0.859\n",
      "Model:                            OLS   Adj. R-squared:                  0.858\n",
      "Method:                 Least Squares   F-statistic:                     878.0\n",
      "Date:                Sat, 21 Oct 2017   Prob (F-statistic):               0.00\n",
      "Time:                        14:31:08   Log-Likelihood:                -8796.7\n",
      "No. Observations:                1019   AIC:                         1.761e+04\n",
      "Df Residuals:                    1011   BIC:                         1.765e+04\n",
      "Df Model:                           7                                         \n",
      "Covariance Type:            nonrobust                                         \n",
      "====================================================================================\n",
      "                       coef    std err          t      P>|t|      [0.025      0.975]\n",
      "------------------------------------------------------------------------------------\n",
      "Intercept         1.008e+04     81.976    122.945      0.000    9917.639    1.02e+04\n",
      "scale(Age_08_04) -2467.2773     73.108    -33.748      0.000   -2610.739   -2323.816\n",
      "scale(KM)         -559.9450     50.357    -11.120      0.000    -658.760    -461.130\n",
      "Airco              289.5882    109.159      2.653      0.008      75.385     503.792\n",
      "Automatic_airco   3404.5207    203.369     16.741      0.000    3005.446    3803.595\n",
      "CD_Player          382.6018    123.798      3.091      0.002     139.671     625.532\n",
      "Central_Lock       620.6598    104.084      5.963      0.000     416.415     824.905\n",
      "Boardcomputer     -494.9638    139.908     -3.538      0.000    -769.507    -220.421\n",
      "==============================================================================\n",
      "Omnibus:                      181.336   Durbin-Watson:                   1.656\n",
      "Prob(Omnibus):                  0.000   Jarque-Bera (JB):              939.826\n",
      "Skew:                           0.713   Prob(JB):                    8.31e-205\n",
      "Kurtosis:                       7.484   Cond. No.                         7.03\n",
      "==============================================================================\n",
      "\n",
      "Warnings:\n",
      "[1] Standard Errors assume that the covariance matrix of the errors is correctly specified.\n"
     ]
    }
   ],
   "source": [
    "model_first = sm.OLS.from_formula( \"Price ~ scale(Age_08_04) + scale(KM)  + Airco + Automatic_airco + CD_Player + Central_Lock + Boardcomputer\", data=df)\n",
    "print(model_first.fit().summary())\n"
   ]
  },
  {
   "cell_type": "code",
   "execution_count": 48,
   "metadata": {
    "scrolled": false
   },
   "outputs": [
    {
     "data": {
      "image/png": "[encoded data removed]",
      "text/plain": [
       "<matplotlib.figure.Figure at 0x115627f0>"
      ]
     },
     "metadata": {},
     "output_type": "display_data"
    }
   ],
   "source": [
    "sp.stats.probplot(result.resid, plot=plt)\n",
    "plt.show()"
   ]
  },
  {
   "cell_type": "code",
   "execution_count": 49,
   "metadata": {},
   "outputs": [
    {
     "name": "stdout",
     "output_type": "stream",
     "text": [
      "Chi^2       : 181.336\n",
      "P-value     :  0.000\n"
     ]
    }
   ],
   "source": [
    "test = sms.omni_normtest(result.resid)\n",
    "for xi in zip(['Chi^2', 'P-value'], test):\n",
    "    print(\"%-12s: %6.3f\" % xi)"
   ]
  },
  {
   "cell_type": "markdown",
   "metadata": {},
   "source": [
    "#  다중 공선성- heat map"
   ]
  },
  {
   "cell_type": "code",
   "execution_count": 54,
   "metadata": {},
   "outputs": [],
   "source": [
    "df_x = df.ix[:, 3:]"
   ]
  },
  {
   "cell_type": "code",
   "execution_count": 55,
   "metadata": {
    "collapsed": true
   },
   "outputs": [],
   "source": [
    "model_first_df= [ 'Age_08_04' , 'KM' , 'Weight' ]\n",
    "df_y = df.ix[:, :3]"
   ]
  },
  {
   "cell_type": "code",
   "execution_count": 56,
   "metadata": {
    "collapsed": true
   },
   "outputs": [],
   "source": [
    "dfX_first = df_x[model_first_df]"
   ]
  },
  {
   "cell_type": "code",
   "execution_count": 57,
   "metadata": {},
   "outputs": [
    {
     "data": {
      "image/png": "[encoded data removed]",
      "text/plain": [
       "<matplotlib.figure.Figure at 0xfbe9e50>"
      ]
     },
     "metadata": {},
     "output_type": "display_data"
    }
   ],
   "source": [
    "with plt.style.context(('seaborn-darkgrid')):\n",
    "    sns_plot = sns.pairplot(pd.concat([df_y.Price, dfX_first], axis=1) ,size=2.5)"
   ]
  },
  {
   "cell_type": "code",
   "execution_count": 58,
   "metadata": {},
   "outputs": [
    {
     "data": {
      "text/html": [
       "<div>\n",
       "<style>\n",
       "    .dataframe thead tr:only-child th {\n",
       "        text-align: right;\n",
       "    }\n",
       "\n",
       "    .dataframe thead th {\n",
       "        text-align: left;\n",
       "    }\n",
       "\n",
       "    .dataframe tbody tr th {\n",
       "        vertical-align: top;\n",
       "    }\n",
       "</style>\n",
       "<table border=\"1\" class=\"dataframe\">\n",
       "  <thead>\n",
       "    <tr style=\"text-align: right;\">\n",
       "      <th></th>\n",
       "      <th>Price</th>\n",
       "      <th>Age_08_04</th>\n",
       "      <th>KM</th>\n",
       "      <th>Weight</th>\n",
       "    </tr>\n",
       "  </thead>\n",
       "  <tbody>\n",
       "    <tr>\n",
       "      <th>0</th>\n",
       "      <td>13500</td>\n",
       "      <td>23</td>\n",
       "      <td>46986</td>\n",
       "      <td>1165</td>\n",
       "    </tr>\n",
       "    <tr>\n",
       "      <th>1</th>\n",
       "      <td>13750</td>\n",
       "      <td>23</td>\n",
       "      <td>72937</td>\n",
       "      <td>1165</td>\n",
       "    </tr>\n",
       "    <tr>\n",
       "      <th>2</th>\n",
       "      <td>13750</td>\n",
       "      <td>30</td>\n",
       "      <td>38500</td>\n",
       "      <td>1170</td>\n",
       "    </tr>\n",
       "    <tr>\n",
       "      <th>3</th>\n",
       "      <td>20950</td>\n",
       "      <td>25</td>\n",
       "      <td>31461</td>\n",
       "      <td>1185</td>\n",
       "    </tr>\n",
       "    <tr>\n",
       "      <th>4</th>\n",
       "      <td>19600</td>\n",
       "      <td>25</td>\n",
       "      <td>32189</td>\n",
       "      <td>1185</td>\n",
       "    </tr>\n",
       "  </tbody>\n",
       "</table>\n",
       "</div>"
      ],
      "text/plain": [
       "   Price  Age_08_04     KM  Weight\n",
       "0  13500         23  46986    1165\n",
       "1  13750         23  72937    1165\n",
       "2  13750         30  38500    1170\n",
       "3  20950         25  31461    1185\n",
       "4  19600         25  32189    1185"
      ]
     },
     "execution_count": 58,
     "metadata": {},
     "output_type": "execute_result"
    }
   ],
   "source": [
    "df_first = pd.concat([df_y.Price, dfX_first], axis=1)\n",
    "df_first.head()"
   ]
  },
  {
   "cell_type": "code",
   "execution_count": 59,
   "metadata": {},
   "outputs": [
    {
     "data": {
      "text/html": [
       "<div>\n",
       "<style>\n",
       "    .dataframe thead tr:only-child th {\n",
       "        text-align: right;\n",
       "    }\n",
       "\n",
       "    .dataframe thead th {\n",
       "        text-align: left;\n",
       "    }\n",
       "\n",
       "    .dataframe tbody tr th {\n",
       "        vertical-align: top;\n",
       "    }\n",
       "</style>\n",
       "<table border=\"1\" class=\"dataframe\">\n",
       "  <thead>\n",
       "    <tr style=\"text-align: right;\">\n",
       "      <th></th>\n",
       "      <th>Price</th>\n",
       "      <th>Age_08_04</th>\n",
       "      <th>KM</th>\n",
       "      <th>Weight</th>\n",
       "    </tr>\n",
       "  </thead>\n",
       "  <tbody>\n",
       "    <tr>\n",
       "      <th>Price</th>\n",
       "      <td>1.000000</td>\n",
       "      <td>-0.883900</td>\n",
       "      <td>-0.575962</td>\n",
       "      <td>0.557015</td>\n",
       "    </tr>\n",
       "    <tr>\n",
       "      <th>Age_08_04</th>\n",
       "      <td>-0.883900</td>\n",
       "      <td>1.000000</td>\n",
       "      <td>0.516486</td>\n",
       "      <td>-0.463990</td>\n",
       "    </tr>\n",
       "    <tr>\n",
       "      <th>KM</th>\n",
       "      <td>-0.575962</td>\n",
       "      <td>0.516486</td>\n",
       "      <td>1.000000</td>\n",
       "      <td>-0.011154</td>\n",
       "    </tr>\n",
       "    <tr>\n",
       "      <th>Weight</th>\n",
       "      <td>0.557015</td>\n",
       "      <td>-0.463990</td>\n",
       "      <td>-0.011154</td>\n",
       "      <td>1.000000</td>\n",
       "    </tr>\n",
       "  </tbody>\n",
       "</table>\n",
       "</div>"
      ],
      "text/plain": [
       "              Price  Age_08_04        KM    Weight\n",
       "Price      1.000000  -0.883900 -0.575962  0.557015\n",
       "Age_08_04 -0.883900   1.000000  0.516486 -0.463990\n",
       "KM        -0.575962   0.516486  1.000000 -0.011154\n",
       "Weight     0.557015  -0.463990 -0.011154  1.000000"
      ]
     },
     "execution_count": 59,
     "metadata": {},
     "output_type": "execute_result"
    }
   ],
   "source": [
    "corrmat = df_first.corr()\n",
    "corrmat"
   ]
  },
  {
   "cell_type": "code",
   "execution_count": 60,
   "metadata": {},
   "outputs": [
    {
     "data": {
      "text/plain": [
       "<matplotlib.axes._subplots.AxesSubplot at 0xf2a7070>"
      ]
     },
     "execution_count": 60,
     "metadata": {},
     "output_type": "execute_result"
    },
    {
     "data": {
      "image/png": "[encoded data removed]",
      "text/plain": [
       "<matplotlib.figure.Figure at 0x19349b0>"
      ]
     },
     "metadata": {},
     "output_type": "display_data"
    }
   ],
   "source": [
    "f, ax = plt.subplots(figsize=(8, 6))\n",
    "sns.heatmap(corrmat, annot=True)"
   ]
  },
  {
   "cell_type": "markdown",
   "metadata": {},
   "source": [
    "# vif"
   ]
  },
  {
   "cell_type": "code",
   "execution_count": 61,
   "metadata": {},
   "outputs": [
    {
     "data": {
      "text/html": [
       "<div>\n",
       "<style>\n",
       "    .dataframe thead tr:only-child th {\n",
       "        text-align: right;\n",
       "    }\n",
       "\n",
       "    .dataframe thead th {\n",
       "        text-align: left;\n",
       "    }\n",
       "\n",
       "    .dataframe tbody tr th {\n",
       "        vertical-align: top;\n",
       "    }\n",
       "</style>\n",
       "<table border=\"1\" class=\"dataframe\">\n",
       "  <thead>\n",
       "    <tr style=\"text-align: right;\">\n",
       "      <th></th>\n",
       "      <th>VIF Factor</th>\n",
       "      <th>features</th>\n",
       "    </tr>\n",
       "  </thead>\n",
       "  <tbody>\n",
       "    <tr>\n",
       "      <th>0</th>\n",
       "      <td>12.112462</td>\n",
       "      <td>Age_08_04</td>\n",
       "    </tr>\n",
       "    <tr>\n",
       "      <th>1</th>\n",
       "      <td>5.812175</td>\n",
       "      <td>KM</td>\n",
       "    </tr>\n",
       "    <tr>\n",
       "      <th>2</th>\n",
       "      <td>8.868779</td>\n",
       "      <td>Weight</td>\n",
       "    </tr>\n",
       "  </tbody>\n",
       "</table>\n",
       "</div>"
      ],
      "text/plain": [
       "   VIF Factor   features\n",
       "0   12.112462  Age_08_04\n",
       "1    5.812175         KM\n",
       "2    8.868779     Weight"
      ]
     },
     "execution_count": 61,
     "metadata": {},
     "output_type": "execute_result"
    }
   ],
   "source": [
    "from statsmodels.stats.outliers_influence import variance_inflation_factor\n",
    "\n",
    "vif = pd.DataFrame()\n",
    "vif[\"VIF Factor\"] = [variance_inflation_factor(dfX_first.values, i) for i in range(dfX_first.shape[1])]\n",
    "vif[\"features\"] = dfX_first.columns\n",
    "vif"
   ]
  },
  {
   "cell_type": "code",
   "execution_count": 62,
   "metadata": {
    "collapsed": true
   },
   "outputs": [],
   "source": [
    "first_model = [ 'Age_08_04' , 'KM' , 'Airco' , 'Automatic_airco' , 'CD_Player' , 'Central_Lock' , 'Boardcomputer']"
   ]
  },
  {
   "cell_type": "code",
   "execution_count": 63,
   "metadata": {
    "collapsed": true
   },
   "outputs": [],
   "source": [
    "dfX_first_1 = df_x[first_model]"
   ]
  },
  {
   "cell_type": "code",
   "execution_count": 64,
   "metadata": {
    "scrolled": true
   },
   "outputs": [
    {
     "data": {
      "text/html": [
       "<div>\n",
       "<style>\n",
       "    .dataframe thead tr:only-child th {\n",
       "        text-align: right;\n",
       "    }\n",
       "\n",
       "    .dataframe thead th {\n",
       "        text-align: left;\n",
       "    }\n",
       "\n",
       "    .dataframe tbody tr th {\n",
       "        vertical-align: top;\n",
       "    }\n",
       "</style>\n",
       "<table border=\"1\" class=\"dataframe\">\n",
       "  <thead>\n",
       "    <tr style=\"text-align: right;\">\n",
       "      <th></th>\n",
       "      <th>VIF Factor</th>\n",
       "      <th>features</th>\n",
       "    </tr>\n",
       "  </thead>\n",
       "  <tbody>\n",
       "    <tr>\n",
       "      <th>0</th>\n",
       "      <td>6.359601</td>\n",
       "      <td>Age_08_04</td>\n",
       "    </tr>\n",
       "    <tr>\n",
       "      <th>1</th>\n",
       "      <td>5.870228</td>\n",
       "      <td>KM</td>\n",
       "    </tr>\n",
       "    <tr>\n",
       "      <th>2</th>\n",
       "      <td>3.107320</td>\n",
       "      <td>Airco</td>\n",
       "    </tr>\n",
       "    <tr>\n",
       "      <th>3</th>\n",
       "      <td>1.249519</td>\n",
       "      <td>Automatic_airco</td>\n",
       "    </tr>\n",
       "    <tr>\n",
       "      <th>4</th>\n",
       "      <td>1.834762</td>\n",
       "      <td>CD_Player</td>\n",
       "    </tr>\n",
       "    <tr>\n",
       "      <th>5</th>\n",
       "      <td>3.419162</td>\n",
       "      <td>Central_Lock</td>\n",
       "    </tr>\n",
       "    <tr>\n",
       "      <th>6</th>\n",
       "      <td>2.047333</td>\n",
       "      <td>Boardcomputer</td>\n",
       "    </tr>\n",
       "  </tbody>\n",
       "</table>\n",
       "</div>"
      ],
      "text/plain": [
       "   VIF Factor         features\n",
       "0    6.359601        Age_08_04\n",
       "1    5.870228               KM\n",
       "2    3.107320            Airco\n",
       "3    1.249519  Automatic_airco\n",
       "4    1.834762        CD_Player\n",
       "5    3.419162     Central_Lock\n",
       "6    2.047333    Boardcomputer"
      ]
     },
     "execution_count": 64,
     "metadata": {},
     "output_type": "execute_result"
    }
   ],
   "source": [
    "from statsmodels.stats.outliers_influence import variance_inflation_factor\n",
    "\n",
    "vif = pd.DataFrame()\n",
    "vif[\"VIF Factor\"] = [variance_inflation_factor(dfX_first_1.values, i) for i in range(dfX_first_1.shape[1])]\n",
    "vif[\"features\"] = dfX_first_1.columns\n",
    "vif"
   ]
  },
  {
   "cell_type": "markdown",
   "metadata": {},
   "source": [
    "# 다항회귀"
   ]
  },
  {
   "cell_type": "code",
   "execution_count": 75,
   "metadata": {},
   "outputs": [],
   "source": [
    "X = pd.DataFrame(df_x , columns =  ['Age_08_04' , 'KM' , 'Airco' , 'Automatic_airco' , 'CD_Player' , 'Central_Lock' , 'Boardcomputer'])\n",
    "X = sm.add_constant(X)\n",
    "y = pd.DataFrame(df_y , columns = ['Price'])\n",
    "df_R = pd.concat([X, y], axis=1)\n"
   ]
  },
  {
   "cell_type": "code",
   "execution_count": 76,
   "metadata": {},
   "outputs": [],
   "source": [
    "model_first = LinearRegression().fit(X, y)\n"
   ]
  },
  {
   "cell_type": "code",
   "execution_count": 81,
   "metadata": {
    "scrolled": true
   },
   "outputs": [
    {
     "data": {
      "image/png": "[encoded data removed]",
      "text/plain": [
       "<matplotlib.figure.Figure at 0xe68bdd0>"
      ]
     },
     "metadata": {},
     "output_type": "display_data"
    }
   ],
   "source": [
    "predictions = model_first.predict(X)\n",
    "\n",
    "plt.figure(figsize=(20,10))\n",
    "plt.scatter(y, predictions)\n",
    "plt.xlabel(u\"실제\")\n",
    "plt.ylabel(u\"예측\")\n",
    "plt.show()"
   ]
  },
  {
   "cell_type": "markdown",
   "metadata": {},
   "source": [
    "# 다항회귀 AGE1 ~ KM4 , AGE2 ~ KM4"
   ]
  },
  {
   "cell_type": "code",
   "execution_count": 111,
   "metadata": {
    "scrolled": true
   },
   "outputs": [
    {
     "name": "stdout",
     "output_type": "stream",
     "text": [
      "                            OLS Regression Results                            \n",
      "==============================================================================\n",
      "Dep. Variable:                  Price   R-squared:                       0.859\n",
      "Model:                            OLS   Adj. R-squared:                  0.858\n",
      "Method:                 Least Squares   F-statistic:                     767.8\n",
      "Date:                Sat, 21 Oct 2017   Prob (F-statistic):               0.00\n",
      "Time:                        15:18:11   Log-Likelihood:                -8796.6\n",
      "No. Observations:                1019   AIC:                         1.761e+04\n",
      "Df Residuals:                    1010   BIC:                         1.766e+04\n",
      "Df Model:                           8                                         \n",
      "Covariance Type:            nonrobust                                         \n",
      "=====================================================================================\n",
      "                        coef    std err          t      P>|t|      [0.025      0.975]\n",
      "-------------------------------------------------------------------------------------\n",
      "Intercept          1.008e+04     82.010    122.903      0.000    9918.293    1.02e+04\n",
      "scale(Age_08_04)  -2482.8179     77.396    -32.080      0.000   -2634.692   -2330.944\n",
      "scale(KM)          -465.2623    162.374     -2.865      0.004    -783.891    -146.634\n",
      "scale(I(KM ** 2))   -91.3709    148.963     -0.613      0.540    -383.684     200.943\n",
      "Airco               289.7317    109.193      2.653      0.008      75.462     504.002\n",
      "Automatic_airco    3418.9096    204.780     16.696      0.000    3017.066    3820.753\n",
      "CD_Player           380.1174    123.902      3.068      0.002     136.982     623.253\n",
      "Central_Lock        620.0303    104.121      5.955      0.000     415.712     824.348\n",
      "Boardcomputer      -497.5117    140.013     -3.553      0.000    -772.261    -222.763\n",
      "==============================================================================\n",
      "Omnibus:                      182.929   Durbin-Watson:                   1.658\n",
      "Prob(Omnibus):                  0.000   Jarque-Bera (JB):              953.628\n",
      "Skew:                           0.718   Prob(JB):                    8.36e-208\n",
      "Kurtosis:                       7.516   Cond. No.                         8.33\n",
      "==============================================================================\n",
      "\n",
      "Warnings:\n",
      "[1] Standard Errors assume that the covariance matrix of the errors is correctly specified.\n"
     ]
    }
   ],
   "source": [
    "# AGE 1차 KM 2차\n",
    "\n",
    "rev_model_first = sm.OLS.from_formula( \"Price ~ scale(Age_08_04)  + scale(KM) +  scale(I(KM**2))  + Airco + Automatic_airco + CD_Player + Central_Lock + Boardcomputer\", data=df)\n",
    "print(rev_model_first.fit().summary())\n"
   ]
  },
  {
   "cell_type": "code",
   "execution_count": 112,
   "metadata": {
    "scrolled": true
   },
   "outputs": [
    {
     "name": "stdout",
     "output_type": "stream",
     "text": [
      "                            OLS Regression Results                            \n",
      "==============================================================================\n",
      "Dep. Variable:                  Price   R-squared:                       0.861\n",
      "Model:                            OLS   Adj. R-squared:                  0.859\n",
      "Method:                 Least Squares   F-statistic:                     692.0\n",
      "Date:                Sat, 21 Oct 2017   Prob (F-statistic):               0.00\n",
      "Time:                        15:18:32   Log-Likelihood:                -8790.1\n",
      "No. Observations:                1019   AIC:                         1.760e+04\n",
      "Df Residuals:                    1009   BIC:                         1.765e+04\n",
      "Df Model:                           9                                         \n",
      "Covariance Type:            nonrobust                                         \n",
      "=====================================================================================\n",
      "                        coef    std err          t      P>|t|      [0.025      0.975]\n",
      "-------------------------------------------------------------------------------------\n",
      "Intercept          1.007e+04     81.548    123.524      0.000    9913.048    1.02e+04\n",
      "scale(Age_08_04)  -2437.1416     77.984    -31.252      0.000   -2590.172   -2284.111\n",
      "scale(KM)         -1533.9681    338.259     -4.535      0.000   -2197.740    -870.197\n",
      "scale(I(KM ** 2))  2249.6716    667.780      3.369      0.001     939.274    3560.069\n",
      "scale(I(KM ** 3)) -1394.9674    388.005     -3.595      0.000   -2156.357    -633.578\n",
      "Airco               321.9325    108.922      2.956      0.003     108.192     535.673\n",
      "Automatic_airco    3317.1973    205.538     16.139      0.000    2913.866    3720.528\n",
      "CD_Player           379.6891    123.177      3.082      0.002     137.976     621.402\n",
      "Central_Lock        606.5506    103.579      5.856      0.000     403.295     809.806\n",
      "Boardcomputer      -483.4373    139.248     -3.472      0.001    -756.687    -210.188\n",
      "==============================================================================\n",
      "Omnibus:                      175.449   Durbin-Watson:                   1.671\n",
      "Prob(Omnibus):                  0.000   Jarque-Bera (JB):              900.838\n",
      "Skew:                           0.688   Prob(JB):                    2.43e-196\n",
      "Kurtosis:                       7.396   Cond. No.                         34.8\n",
      "==============================================================================\n",
      "\n",
      "Warnings:\n",
      "[1] Standard Errors assume that the covariance matrix of the errors is correctly specified.\n"
     ]
    }
   ],
   "source": [
    "# AGE 1차 KM 3차\n",
    "rev_model_first = sm.OLS.from_formula( \"Price ~ scale(Age_08_04) + scale(KM) +  scale(I(KM**2)) + scale(I(KM**3)) + Airco + Automatic_airco + CD_Player + Central_Lock + Boardcomputer\", data=df)\n",
    "print(rev_model_first.fit().summary())"
   ]
  },
  {
   "cell_type": "code",
   "execution_count": 113,
   "metadata": {
    "scrolled": true
   },
   "outputs": [
    {
     "name": "stdout",
     "output_type": "stream",
     "text": [
      "                            OLS Regression Results                            \n",
      "==============================================================================\n",
      "Dep. Variable:                  Price   R-squared:                       0.861\n",
      "Model:                            OLS   Adj. R-squared:                  0.859\n",
      "Method:                 Least Squares   F-statistic:                     622.3\n",
      "Date:                Sat, 21 Oct 2017   Prob (F-statistic):               0.00\n",
      "Time:                        15:18:41   Log-Likelihood:                -8790.0\n",
      "No. Observations:                1019   AIC:                         1.760e+04\n",
      "Df Residuals:                    1008   BIC:                         1.766e+04\n",
      "Df Model:                          10                                         \n",
      "Covariance Type:            nonrobust                                         \n",
      "=====================================================================================\n",
      "                        coef    std err          t      P>|t|      [0.025      0.975]\n",
      "-------------------------------------------------------------------------------------\n",
      "Intercept          1.007e+04     81.627    123.393      0.000    9911.938    1.02e+04\n",
      "scale(Age_08_04)  -2436.8059     78.024    -31.232      0.000   -2589.914   -2283.698\n",
      "scale(KM)         -1530.6778    338.530     -4.522      0.000   -2194.982    -866.374\n",
      "scale(I(KM ** 2))  2249.1701    668.071      3.367      0.001     938.202    3560.139\n",
      "scale(I(KM ** 3)) -1396.3645    388.192     -3.597      0.000   -2158.123    -634.607\n",
      "scale(I(KM ** 4))    15.3415     42.854      0.358      0.720     -68.752      99.435\n",
      "Airco               323.7015    109.081      2.968      0.003     109.649     537.754\n",
      "Automatic_airco    3320.7172    205.862     16.131      0.000    2916.750    3724.684\n",
      "CD_Player           378.4248    123.281      3.070      0.002     136.507     620.342\n",
      "Central_Lock        606.2118    103.628      5.850      0.000     402.859     809.564\n",
      "Boardcomputer      -482.2472    139.348     -3.461      0.001    -755.693    -208.801\n",
      "==============================================================================\n",
      "Omnibus:                      175.463   Durbin-Watson:                   1.671\n",
      "Prob(Omnibus):                  0.000   Jarque-Bera (JB):              901.993\n",
      "Skew:                           0.688   Prob(JB):                    1.36e-196\n",
      "Kurtosis:                       7.399   Cond. No.                         34.9\n",
      "==============================================================================\n",
      "\n",
      "Warnings:\n",
      "[1] Standard Errors assume that the covariance matrix of the errors is correctly specified.\n"
     ]
    }
   ],
   "source": [
    "# AGE 1차 KM 4차\n",
    "rev_model_first = sm.OLS.from_formula( \"Price ~ scale(Age_08_04) + scale(KM) +  scale(I(KM**2)) + scale(I(KM**3)) + scale(I(KM**4)) + Airco + Automatic_airco + CD_Player + Central_Lock + Boardcomputer\", data=df)\n",
    "print(rev_model_first.fit().summary())"
   ]
  },
  {
   "cell_type": "code",
   "execution_count": 114,
   "metadata": {
    "scrolled": true
   },
   "outputs": [
    {
     "name": "stdout",
     "output_type": "stream",
     "text": [
      "                            OLS Regression Results                            \n",
      "==============================================================================\n",
      "Dep. Variable:                  Price   R-squared:                       0.877\n",
      "Model:                            OLS   Adj. R-squared:                  0.876\n",
      "Method:                 Least Squares   F-statistic:                     897.6\n",
      "Date:                Sat, 21 Oct 2017   Prob (F-statistic):               0.00\n",
      "Time:                        15:18:55   Log-Likelihood:                -8727.5\n",
      "No. Observations:                1019   AIC:                         1.747e+04\n",
      "Df Residuals:                    1010   BIC:                         1.752e+04\n",
      "Df Model:                           8                                         \n",
      "Covariance Type:            nonrobust                                         \n",
      "============================================================================================\n",
      "                               coef    std err          t      P>|t|      [0.025      0.975]\n",
      "--------------------------------------------------------------------------------------------\n",
      "Intercept                 1.013e+04     76.741    131.990      0.000    9978.412    1.03e+04\n",
      "scale(Age_08_04)         -5000.2673    219.772    -22.752      0.000   -5431.530   -4569.004\n",
      "scale(I(Age_08_04 ** 2))  2520.6636    207.861     12.127      0.000    2112.775    2928.552\n",
      "scale(KM)                 -546.9623     47.083    -11.617      0.000    -639.354    -454.570\n",
      "Airco                      424.9751    102.646      4.140      0.000     223.552     626.398\n",
      "Automatic_airco           2650.8614    200.002     13.254      0.000    2258.395    3043.328\n",
      "CD_Player                  286.7950    115.990      2.473      0.014      59.185     514.405\n",
      "Central_Lock               481.9894     97.963      4.920      0.000     289.756     674.223\n",
      "Boardcomputer             -391.7046    131.057     -2.989      0.003    -648.879    -134.530\n",
      "==============================================================================\n",
      "Omnibus:                      136.901   Durbin-Watson:                   1.786\n",
      "Prob(Omnibus):                  0.000   Jarque-Bera (JB):              549.889\n",
      "Skew:                           0.580   Prob(JB):                    3.92e-120\n",
      "Kurtosis:                       6.407   Cond. No.                         12.9\n",
      "==============================================================================\n",
      "\n",
      "Warnings:\n",
      "[1] Standard Errors assume that the covariance matrix of the errors is correctly specified.\n"
     ]
    }
   ],
   "source": [
    "# AGE 2차 KM 1차\n",
    "rev_model_first = sm.OLS.from_formula( \"Price ~ scale(Age_08_04) + scale(I(Age_08_04**2)) + scale(KM)  + Airco + Automatic_airco + CD_Player + Central_Lock + Boardcomputer\", data=df)\n",
    "print(rev_model_first.fit().summary())"
   ]
  },
  {
   "cell_type": "code",
   "execution_count": 115,
   "metadata": {
    "scrolled": true
   },
   "outputs": [
    {
     "name": "stdout",
     "output_type": "stream",
     "text": [
      "                            OLS Regression Results                            \n",
      "==============================================================================\n",
      "Dep. Variable:                  Price   R-squared:                       0.878\n",
      "Model:                            OLS   Adj. R-squared:                  0.877\n",
      "Method:                 Least Squares   F-statistic:                     907.6\n",
      "Date:                Sat, 21 Oct 2017   Prob (F-statistic):               0.00\n",
      "Time:                        15:21:35   Log-Likelihood:                -8722.5\n",
      "No. Observations:                1019   AIC:                         1.746e+04\n",
      "Df Residuals:                    1010   BIC:                         1.751e+04\n",
      "Df Model:                           8                                         \n",
      "Covariance Type:            nonrobust                                         \n",
      "============================================================================================\n",
      "                               coef    std err          t      P>|t|      [0.025      0.975]\n",
      "--------------------------------------------------------------------------------------------\n",
      "Intercept                 1.014e+04     76.346    132.773      0.000    9986.850    1.03e+04\n",
      "scale(Age_08_04)         -5250.8261    216.892    -24.209      0.000   -5676.436   -4825.216\n",
      "scale(I(Age_08_04 ** 2))  2678.2101    206.972     12.940      0.000    2272.066    3084.354\n",
      "scale(I(KM ** 2))         -519.9785     43.010    -12.090      0.000    -604.377    -435.580\n",
      "Airco                      432.3103    102.169      4.231      0.000     231.822     632.799\n",
      "Automatic_airco           2687.5772    198.871     13.514      0.000    2297.329    3077.825\n",
      "CD_Player                  266.9421    115.459      2.312      0.021      40.375     493.510\n",
      "Central_Lock               470.3629     97.522      4.823      0.000     278.994     661.732\n",
      "Boardcomputer             -399.6321    130.426     -3.064      0.002    -655.569    -143.695\n",
      "==============================================================================\n",
      "Omnibus:                      138.959   Durbin-Watson:                   1.810\n",
      "Prob(Omnibus):                  0.000   Jarque-Bera (JB):              567.803\n",
      "Skew:                           0.584   Prob(JB):                    5.05e-124\n",
      "Kurtosis:                       6.465   Cond. No.                         12.6\n",
      "==============================================================================\n",
      "\n",
      "Warnings:\n",
      "[1] Standard Errors assume that the covariance matrix of the errors is correctly specified.\n"
     ]
    }
   ],
   "source": [
    "# AGE 2차 KM 2차 - KM 1차\n",
    "rev_model_first = sm.OLS.from_formula( \"Price ~ scale(Age_08_04) + scale(I(Age_08_04**2)) + scale(I(KM**2))  + Airco + Automatic_airco + CD_Player + Central_Lock + Boardcomputer\", data=df)\n",
    "print(rev_model_first.fit().summary())"
   ]
  },
  {
   "cell_type": "code",
   "execution_count": 105,
   "metadata": {
    "scrolled": true
   },
   "outputs": [
    {
     "name": "stdout",
     "output_type": "stream",
     "text": [
      "                            OLS Regression Results                            \n",
      "==============================================================================\n",
      "Dep. Variable:                  Price   R-squared:                       0.878\n",
      "Model:                            OLS   Adj. R-squared:                  0.877\n",
      "Method:                 Least Squares   F-statistic:                     806.2\n",
      "Date:                Sat, 21 Oct 2017   Prob (F-statistic):               0.00\n",
      "Time:                        14:50:45   Log-Likelihood:                -8722.4\n",
      "No. Observations:                1019   AIC:                         1.746e+04\n",
      "Df Residuals:                    1009   BIC:                         1.751e+04\n",
      "Df Model:                           9                                         \n",
      "Covariance Type:            nonrobust                                         \n",
      "============================================================================================\n",
      "                               coef    std err          t      P>|t|      [0.025      0.975]\n",
      "--------------------------------------------------------------------------------------------\n",
      "Intercept                 1.014e+04     76.421    132.624      0.000    9985.318    1.03e+04\n",
      "scale(Age_08_04)         -5213.4918    228.797    -22.787      0.000   -5662.464   -4764.520\n",
      "scale(I(Age_08_04 ** 2))  2656.5726    211.280     12.574      0.000    2241.974    3071.171\n",
      "scale(KM)                  -79.2584    154.139     -0.514      0.607    -381.728     223.211\n",
      "scale(I(KM ** 2))         -450.6688    141.491     -3.185      0.001    -728.319    -173.018\n",
      "Airco                      432.9826    102.215      4.236      0.000     232.404     633.561\n",
      "Automatic_airco           2681.1960    199.330     13.451      0.000    2290.047    3072.345\n",
      "CD_Player                  269.3757    115.598      2.330      0.020      42.535     496.216\n",
      "Central_Lock               471.4073     97.579      4.831      0.000     279.927     662.888\n",
      "Boardcomputer             -398.7045    130.486     -3.056      0.002    -654.759    -142.650\n",
      "==============================================================================\n",
      "Omnibus:                      139.422   Durbin-Watson:                   1.809\n",
      "Prob(Omnibus):                  0.000   Jarque-Bera (JB):              567.547\n",
      "Skew:                           0.588   Prob(JB):                    5.74e-124\n",
      "Kurtosis:                       6.462   Cond. No.                         14.3\n",
      "==============================================================================\n",
      "\n",
      "Warnings:\n",
      "[1] Standard Errors assume that the covariance matrix of the errors is correctly specified.\n"
     ]
    }
   ],
   "source": [
    "# AGE 2차 KM 2차 \n",
    "rev_model_first = sm.OLS.from_formula( \"Price ~ scale(Age_08_04) + scale(I(Age_08_04**2)) + scale(KM) + scale(I(KM**2))  + Airco + Automatic_airco + CD_Player + Central_Lock + Boardcomputer\", data=df)\n",
    "print(rev_model_first.fit().summary())"
   ]
  },
  {
   "cell_type": "code",
   "execution_count": 104,
   "metadata": {
    "scrolled": true
   },
   "outputs": [
    {
     "name": "stdout",
     "output_type": "stream",
     "text": [
      "                            OLS Regression Results                            \n",
      "==============================================================================\n",
      "Dep. Variable:                  Price   R-squared:                       0.878\n",
      "Model:                            OLS   Adj. R-squared:                  0.877\n",
      "Method:                 Least Squares   F-statistic:                     724.9\n",
      "Date:                Sat, 21 Oct 2017   Prob (F-statistic):               0.00\n",
      "Time:                        14:50:22   Log-Likelihood:                -8722.4\n",
      "No. Observations:                1019   AIC:                         1.747e+04\n",
      "Df Residuals:                    1008   BIC:                         1.752e+04\n",
      "Df Model:                          10                                         \n",
      "Covariance Type:            nonrobust                                         \n",
      "============================================================================================\n",
      "                               coef    std err          t      P>|t|      [0.025      0.975]\n",
      "--------------------------------------------------------------------------------------------\n",
      "Intercept                 1.013e+04     76.517    132.450      0.000    9984.530    1.03e+04\n",
      "scale(Age_08_04)         -5197.9875    241.958    -21.483      0.000   -5672.787   -4723.188\n",
      "scale(I(Age_08_04 ** 2))  2643.8805    220.908     11.968      0.000    2210.389    3077.372\n",
      "scale(KM)                 -138.6202    337.454     -0.411      0.681    -800.812     523.572\n",
      "scale(I(KM ** 2))         -322.9578    661.090     -0.489      0.625   -1620.228     974.313\n",
      "scale(I(KM ** 3))          -75.0769    379.618     -0.198      0.843    -820.008     669.855\n",
      "Airco                      434.0313    102.401      4.239      0.000     233.088     634.975\n",
      "Automatic_airco           2679.2463    199.669     13.418      0.000    2287.432    3071.060\n",
      "CD_Player                  269.8817    115.682      2.333      0.020      42.877     496.886\n",
      "Central_Lock               471.3919     97.625      4.829      0.000     279.820     662.964\n",
      "Boardcomputer             -398.4190    130.556     -3.052      0.002    -654.612    -142.226\n",
      "==============================================================================\n",
      "Omnibus:                      139.453   Durbin-Watson:                   1.809\n",
      "Prob(Omnibus):                  0.000   Jarque-Bera (JB):              568.978\n",
      "Skew:                           0.587   Prob(JB):                    2.81e-124\n",
      "Kurtosis:                       6.467   Cond. No.                         39.7\n",
      "==============================================================================\n",
      "\n",
      "Warnings:\n",
      "[1] Standard Errors assume that the covariance matrix of the errors is correctly specified.\n"
     ]
    }
   ],
   "source": [
    "# AGE 2차 KM 3차\n",
    "rev_model_first = sm.OLS.from_formula( \"Price ~ scale(Age_08_04) + scale(I(Age_08_04**2)) + scale(KM) + scale(I(KM**2)) + scale(I(KM**3)) + Airco + Automatic_airco + CD_Player + Central_Lock + Boardcomputer\", data=df)\n",
    "print(rev_model_first.fit().summary())"
   ]
  },
  {
   "cell_type": "code",
   "execution_count": 106,
   "metadata": {
    "scrolled": true
   },
   "outputs": [
    {
     "name": "stdout",
     "output_type": "stream",
     "text": [
      "                            OLS Regression Results                            \n",
      "==============================================================================\n",
      "Dep. Variable:                  Price   R-squared:                       0.878\n",
      "Model:                            OLS   Adj. R-squared:                  0.877\n",
      "Method:                 Least Squares   F-statistic:                     658.9\n",
      "Date:                Sat, 21 Oct 2017   Prob (F-statistic):               0.00\n",
      "Time:                        14:51:24   Log-Likelihood:                -8722.0\n",
      "No. Observations:                1019   AIC:                         1.747e+04\n",
      "Df Residuals:                    1007   BIC:                         1.753e+04\n",
      "Df Model:                          11                                         \n",
      "Covariance Type:            nonrobust                                         \n",
      "============================================================================================\n",
      "                               coef    std err          t      P>|t|      [0.025      0.975]\n",
      "--------------------------------------------------------------------------------------------\n",
      "Intercept                 1.013e+04     76.561    132.347      0.000    9982.467    1.03e+04\n",
      "scale(Age_08_04)         -5205.1789    242.133    -21.497      0.000   -5680.322   -4730.035\n",
      "scale(I(Age_08_04 ** 2))  2651.4919    221.113     11.992      0.000    2217.597    3085.386\n",
      "scale(KM)                 -127.1875    337.758     -0.377      0.707    -789.977     535.602\n",
      "scale(I(KM ** 2))         -331.4942    661.249     -0.501      0.616   -1629.078     966.090\n",
      "scale(I(KM ** 3))          -74.4260    379.667     -0.196      0.845    -819.455     670.603\n",
      "scale(I(KM ** 4))           34.5763     40.139      0.861      0.389     -44.190     113.343\n",
      "Airco                      438.3411    102.536      4.275      0.000     237.132     639.550\n",
      "Automatic_airco           2685.3430    199.820     13.439      0.000    2293.232    3077.454\n",
      "CD_Player                  266.7163    115.755      2.304      0.021      39.568     493.864\n",
      "Central_Lock               470.2392     97.647      4.816      0.000     278.625     661.854\n",
      "Boardcomputer             -395.4922    130.617     -3.028      0.003    -651.805    -139.180\n",
      "==============================================================================\n",
      "Omnibus:                      138.917   Durbin-Watson:                   1.810\n",
      "Prob(Omnibus):                  0.000   Jarque-Bera (JB):              567.480\n",
      "Skew:                           0.584   Prob(JB):                    5.93e-124\n",
      "Kurtosis:                       6.464   Cond. No.                         39.7\n",
      "==============================================================================\n",
      "\n",
      "Warnings:\n",
      "[1] Standard Errors assume that the covariance matrix of the errors is correctly specified.\n"
     ]
    }
   ],
   "source": [
    "# AGE 2차 KM 4차\n",
    "rev_model_first = sm.OLS.from_formula( \"Price ~ scale(Age_08_04) + scale(I(Age_08_04**2)) + scale(KM) + scale(I(KM**2)) + scale(I(KM**3)) + scale(I(KM**4)) + Airco + Automatic_airco + CD_Player + Central_Lock + Boardcomputer\", data=df)\n",
    "print(rev_model_first.fit().summary())"
   ]
  },
  {
   "cell_type": "code",
   "execution_count": 107,
   "metadata": {},
   "outputs": [
    {
     "name": "stdout",
     "output_type": "stream",
     "text": [
      "                            OLS Regression Results                            \n",
      "==============================================================================\n",
      "Dep. Variable:                  Price   R-squared:                       0.876\n",
      "Model:                            OLS   Adj. R-squared:                  0.875\n",
      "Method:                 Least Squares   F-statistic:                     1020.\n",
      "Date:                Sat, 21 Oct 2017   Prob (F-statistic):               0.00\n",
      "Time:                        14:55:18   Log-Likelihood:                -8730.6\n",
      "No. Observations:                1019   AIC:                         1.748e+04\n",
      "Df Residuals:                    1011   BIC:                         1.752e+04\n",
      "Df Model:                           7                                         \n",
      "Covariance Type:            nonrobust                                         \n",
      "============================================================================================\n",
      "                               coef    std err          t      P>|t|      [0.025      0.975]\n",
      "--------------------------------------------------------------------------------------------\n",
      "Intercept                 1.016e+04     76.093    133.481      0.000       1e+04    1.03e+04\n",
      "scale(Age_08_04)         -5063.1507    218.847    -23.136      0.000   -5492.598   -4633.704\n",
      "scale(I(Age_08_04 ** 2))  2555.6706    207.902     12.293      0.000    2147.702    2963.639\n",
      "scale(KM)                 -548.5446     47.198    -11.622      0.000    -641.161    -455.928\n",
      "Airco                      439.2066    102.743      4.275      0.000     237.593     640.821\n",
      "Automatic_airco           2657.1878    200.491     13.253      0.000    2263.762    3050.613\n",
      "Central_Lock               491.2394     98.138      5.006      0.000     298.661     683.818\n",
      "Boardcomputer             -306.8921    126.808     -2.420      0.016    -555.729     -58.056\n",
      "==============================================================================\n",
      "Omnibus:                      130.731   Durbin-Watson:                   1.783\n",
      "Prob(Omnibus):                  0.000   Jarque-Bera (JB):              526.590\n",
      "Skew:                           0.548   Prob(JB):                    4.49e-115\n",
      "Kurtosis:                       6.347   Cond. No.                         12.6\n",
      "==============================================================================\n",
      "\n",
      "Warnings:\n",
      "[1] Standard Errors assume that the covariance matrix of the errors is correctly specified.\n"
     ]
    }
   ],
   "source": []
  },
  {
   "cell_type": "code",
   "execution_count": null,
   "metadata": {
    "collapsed": true
   },
   "outputs": [],
   "source": []
  },
  {
   "cell_type": "code",
   "execution_count": 109,
   "metadata": {},
   "outputs": [
    {
     "name": "stdout",
     "output_type": "stream",
     "text": [
      "                            OLS Regression Results                            \n",
      "==============================================================================\n",
      "Dep. Variable:                  Price   R-squared:                       0.877\n",
      "Model:                            OLS   Adj. R-squared:                  0.876\n",
      "Method:                 Least Squares   F-statistic:                     897.6\n",
      "Date:                Sat, 21 Oct 2017   Prob (F-statistic):               0.00\n",
      "Time:                        15:05:48   Log-Likelihood:                -8727.5\n",
      "No. Observations:                1019   AIC:                         1.747e+04\n",
      "Df Residuals:                    1010   BIC:                         1.752e+04\n",
      "Df Model:                           8                                         \n",
      "Covariance Type:            nonrobust                                         \n",
      "============================================================================================\n",
      "                               coef    std err          t      P>|t|      [0.025      0.975]\n",
      "--------------------------------------------------------------------------------------------\n",
      "Intercept                 1.013e+04     76.741    131.990      0.000    9978.412    1.03e+04\n",
      "scale(Age_08_04)         -5000.2673    219.772    -22.752      0.000   -5431.530   -4569.004\n",
      "scale(I(Age_08_04 ** 2))  2520.6636    207.861     12.127      0.000    2112.775    2928.552\n",
      "scale(KM)                 -546.9623     47.083    -11.617      0.000    -639.354    -454.570\n",
      "Airco                      424.9751    102.646      4.140      0.000     223.552     626.398\n",
      "Automatic_airco           2650.8614    200.002     13.254      0.000    2258.395    3043.328\n",
      "CD_Player                  286.7950    115.990      2.473      0.014      59.185     514.405\n",
      "Central_Lock               481.9894     97.963      4.920      0.000     289.756     674.223\n",
      "Boardcomputer             -391.7046    131.057     -2.989      0.003    -648.879    -134.530\n",
      "==============================================================================\n",
      "Omnibus:                      136.901   Durbin-Watson:                   1.786\n",
      "Prob(Omnibus):                  0.000   Jarque-Bera (JB):              549.889\n",
      "Skew:                           0.580   Prob(JB):                    3.92e-120\n",
      "Kurtosis:                       6.407   Cond. No.                         12.9\n",
      "==============================================================================\n",
      "\n",
      "Warnings:\n",
      "[1] Standard Errors assume that the covariance matrix of the errors is correctly specified.\n"
     ]
    }
   ],
   "source": [
    "rev_model_first = sm.OLS.from_formula( \"Price ~ scale(Age_08_04) + scale(I(Age_08_04**2)) + scale(KM)  + Airco + Automatic_airco + CD_Player + Central_Lock + Boardcomputer\", data=df)\n",
    "print(rev_model_first.fit().summary())"
   ]
  },
  {
   "cell_type": "code",
   "execution_count": null,
   "metadata": {
    "collapsed": true
   },
   "outputs": [],
   "source": []
  },
  {
   "cell_type": "code",
   "execution_count": null,
   "metadata": {
    "collapsed": true
   },
   "outputs": [],
   "source": []
  },
  {
   "cell_type": "code",
   "execution_count": null,
   "metadata": {
    "collapsed": true
   },
   "outputs": [],
   "source": []
  },
  {
   "cell_type": "code",
   "execution_count": null,
   "metadata": {
    "collapsed": true
   },
   "outputs": [],
   "source": []
  },
  {
   "cell_type": "code",
   "execution_count": null,
   "metadata": {
    "collapsed": true
   },
   "outputs": [],
   "source": []
  },
  {
   "cell_type": "markdown",
   "metadata": {},
   "source": [
    "# 다항회귀 Age_08_04 "
   ]
  },
  {
   "cell_type": "code",
   "execution_count": 24,
   "metadata": {
    "collapsed": true
   },
   "outputs": [],
   "source": [
    "X = pd.DataFrame(df_x , columns = ['Age_08_04'])\n",
    "X = sm.add_constant(X)\n",
    "y = pd.DataFrame(df_y , columns = ['Price'])\n",
    "df_R = pd.concat([X, y], axis=1)"
   ]
  },
  {
   "cell_type": "code",
   "execution_count": 25,
   "metadata": {
    "scrolled": false
   },
   "outputs": [
    {
     "data": {
      "text/plain": [
       "Intercept            24282.282249\n",
       "Age_08_04             -372.372017\n",
       "I(Age_08_04 ** 2)        2.206754\n",
       "I(Age_08_04 ** 3)       -0.001618\n",
       "dtype: float64"
      ]
     },
     "execution_count": 25,
     "metadata": {},
     "output_type": "execute_result"
    }
   ],
   "source": [
    "model = sm.OLS.from_formula(\"Price ~ Age_08_04 + I(Age_08_04**2) + I(Age_08_04**3)  \", data=df_R)\n",
    "result1 = model.fit()\n",
    "result1.params\n"
   ]
  },
  {
   "cell_type": "code",
   "execution_count": 26,
   "metadata": {
    "collapsed": true
   },
   "outputs": [],
   "source": [
    "def plot_statsmodels(result):\n",
    "    plt.scatter(df_x.Age_08_04, df_y.Price)\n",
    "    xx = np.linspace(-10 , 85, 500)\n",
    "    dfxx = pd.DataFrame(xx, columns=['Age_08_04'])\n",
    "    dfxx = sm.add_constant(dfxx)\n",
    "    plt.plot(xx, result.predict(dfxx).values)\n",
    "    plt.show()"
   ]
  },
  {
   "cell_type": "code",
   "execution_count": 27,
   "metadata": {},
   "outputs": [
    {
     "data": {
      "text/plain": [
       "1019"
      ]
     },
     "execution_count": 27,
     "metadata": {},
     "output_type": "execute_result"
    }
   ],
   "source": [
    "len(y)"
   ]
  },
  {
   "cell_type": "markdown",
   "metadata": {},
   "source": [
    "# AGE 정규화 선형회귀"
   ]
  },
  {
   "cell_type": "code",
   "execution_count": 28,
   "metadata": {},
   "outputs": [
    {
     "name": "stdout",
     "output_type": "stream",
     "text": [
      "Intercept            19986.016641\n",
      "Age_08_04             -170.757820\n",
      "I(Age_08_04 ** 2)       -0.209763\n",
      "I(Age_08_04 ** 3)        0.004409\n",
      "dtype: float64\n"
     ]
    },
    {
     "data": {
      "image/png": "[encoded data removed]",
      "text/plain": [
       "<matplotlib.figure.Figure at 0xf349a50>"
      ]
     },
     "metadata": {},
     "output_type": "display_data"
    }
   ],
   "source": [
    "result1 = model.fit_regularized(alpha=0.01, L1_wt=1)\n",
    "print(result1.params)\n",
    "plot_statsmodels(result1)"
   ]
  },
  {
   "cell_type": "code",
   "execution_count": 29,
   "metadata": {},
   "outputs": [
    {
     "name": "stdout",
     "output_type": "stream",
     "text": [
      "[  1.21749576e+04   5.35445741e+02  -1.73849163e+01   1.26932900e-01]\n"
     ]
    },
    {
     "data": {
      "image/png": "[encoded data removed]",
      "text/plain": [
       "<matplotlib.figure.Figure at 0xed1a670>"
      ]
     },
     "metadata": {},
     "output_type": "display_data"
    }
   ],
   "source": [
    "result1 = model.fit_regularized(alpha=0.01, L1_wt=0)\n",
    "print(result1.params)\n",
    "plot_statsmodels(result1)"
   ]
  },
  {
   "cell_type": "code",
   "execution_count": 30,
   "metadata": {},
   "outputs": [
    {
     "name": "stdout",
     "output_type": "stream",
     "text": [
      "Intercept            18771.135875\n",
      "Age_08_04             -133.501061\n",
      "I(Age_08_04 ** 2)       -0.411087\n",
      "I(Age_08_04 ** 3)        0.003318\n",
      "dtype: float64\n"
     ]
    },
    {
     "data": {
      "image/png": "[encoded data removed]",
      "text/plain": [
       "<matplotlib.figure.Figure at 0xf24f3b0>"
      ]
     },
     "metadata": {},
     "output_type": "display_data"
    }
   ],
   "source": [
    "result1 = model.fit_regularized(alpha=0.01, L1_wt=0.5)\n",
    "print(result1.params)\n",
    "plot_statsmodels(result1)"
   ]
  },
  {
   "cell_type": "markdown",
   "metadata": {},
   "source": [
    "# 다항회귀 차수 결정 "
   ]
  },
  {
   "cell_type": "code",
   "execution_count": 31,
   "metadata": {},
   "outputs": [
    {
     "name": "stderr",
     "output_type": "stream",
     "text": [
      "C:\\ProgramData\\Anaconda3\\lib\\site-packages\\sklearn\\cross_validation.py:41: DeprecationWarning: This module was deprecated in version 0.18 in favor of the model_selection module into which all the refactored classes and functions are moved. Also note that the interface of the new CV iterators are different from that of this module. This module will be removed in 0.20.\n",
      "  \"This module will be removed in 0.20.\", DeprecationWarning)\n"
     ]
    }
   ],
   "source": [
    "from sklearn.preprocessing import PolynomialFeatures\n",
    "from sklearn.linear_model import LinearRegression\n",
    "from sklearn.pipeline import Pipeline\n",
    "from sklearn.cross_validation import cross_val_score"
   ]
  },
  {
   "cell_type": "code",
   "execution_count": 32,
   "metadata": {
    "collapsed": true
   },
   "outputs": [],
   "source": [
    "def cv_mse(degree):\n",
    "    polynomial_features = PolynomialFeatures(degree=degree)\n",
    "    linear_regression = LinearRegression()\n",
    "    model = Pipeline([(\"polynomial_features\", polynomial_features),\n",
    "                      (\"linear_regression\", linear_regression)])\n",
    "    scores = -cross_val_score(model, X, y, \"neg_mean_squared_error\", cv=K)\n",
    "    return scores"
   ]
  },
  {
   "cell_type": "code",
   "execution_count": 33,
   "metadata": {},
   "outputs": [
    {
     "name": "stdout",
     "output_type": "stream",
     "text": [
      "2389102.77612 2924606.18949\n"
     ]
    },
    {
     "data": {
      "image/png": "[encoded data removed]",
      "text/plain": [
       "<matplotlib.figure.Figure at 0xfa59c90>"
      ]
     },
     "metadata": {},
     "output_type": "display_data"
    }
   ],
   "source": [
    "K=102\n",
    "scores1 =cv_mse(9)\n",
    "sns.distplot(scores1)\n",
    "print(scores1.mean(), scores1.std())"
   ]
  },
  {
   "cell_type": "code",
   "execution_count": 34,
   "metadata": {},
   "outputs": [
    {
     "data": {
      "text/html": [
       "<div>\n",
       "<style>\n",
       "    .dataframe thead tr:only-child th {\n",
       "        text-align: right;\n",
       "    }\n",
       "\n",
       "    .dataframe thead th {\n",
       "        text-align: left;\n",
       "    }\n",
       "\n",
       "    .dataframe tbody tr th {\n",
       "        vertical-align: top;\n",
       "    }\n",
       "</style>\n",
       "<table border=\"1\" class=\"dataframe\">\n",
       "  <thead>\n",
       "    <tr style=\"text-align: right;\">\n",
       "      <th></th>\n",
       "      <th>1</th>\n",
       "      <th>2</th>\n",
       "      <th>4</th>\n",
       "      <th>8</th>\n",
       "      <th>16</th>\n",
       "    </tr>\n",
       "  </thead>\n",
       "  <tbody>\n",
       "    <tr>\n",
       "      <th>count</th>\n",
       "      <td>102.000000</td>\n",
       "      <td>102.000000</td>\n",
       "      <td>102.000000</td>\n",
       "      <td>102.000000</td>\n",
       "      <td>102.000000</td>\n",
       "    </tr>\n",
       "    <tr>\n",
       "      <th>mean</th>\n",
       "      <td>-14.460785</td>\n",
       "      <td>-14.258033</td>\n",
       "      <td>-14.270287</td>\n",
       "      <td>-14.288005</td>\n",
       "      <td>-14.658187</td>\n",
       "    </tr>\n",
       "    <tr>\n",
       "      <th>std</th>\n",
       "      <td>0.859273</td>\n",
       "      <td>0.845051</td>\n",
       "      <td>0.846796</td>\n",
       "      <td>0.878596</td>\n",
       "      <td>0.952979</td>\n",
       "    </tr>\n",
       "    <tr>\n",
       "      <th>min</th>\n",
       "      <td>-16.905190</td>\n",
       "      <td>-16.852999</td>\n",
       "      <td>-16.852480</td>\n",
       "      <td>-17.770401</td>\n",
       "      <td>-17.465988</td>\n",
       "    </tr>\n",
       "    <tr>\n",
       "      <th>25%</th>\n",
       "      <td>-14.885490</td>\n",
       "      <td>-14.720961</td>\n",
       "      <td>-14.714276</td>\n",
       "      <td>-14.713652</td>\n",
       "      <td>-15.291898</td>\n",
       "    </tr>\n",
       "    <tr>\n",
       "      <th>50%</th>\n",
       "      <td>-14.378997</td>\n",
       "      <td>-14.207374</td>\n",
       "      <td>-14.179389</td>\n",
       "      <td>-14.236647</td>\n",
       "      <td>-14.503001</td>\n",
       "    </tr>\n",
       "    <tr>\n",
       "      <th>75%</th>\n",
       "      <td>-13.879800</td>\n",
       "      <td>-13.697322</td>\n",
       "      <td>-13.721084</td>\n",
       "      <td>-13.718577</td>\n",
       "      <td>-13.980211</td>\n",
       "    </tr>\n",
       "    <tr>\n",
       "      <th>max</th>\n",
       "      <td>-12.676982</td>\n",
       "      <td>-12.406523</td>\n",
       "      <td>-12.526241</td>\n",
       "      <td>-12.388917</td>\n",
       "      <td>-12.943096</td>\n",
       "    </tr>\n",
       "  </tbody>\n",
       "</table>\n",
       "</div>"
      ],
      "text/plain": [
       "               1           2           4           8           16\n",
       "count  102.000000  102.000000  102.000000  102.000000  102.000000\n",
       "mean   -14.460785  -14.258033  -14.270287  -14.288005  -14.658187\n",
       "std      0.859273    0.845051    0.846796    0.878596    0.952979\n",
       "min    -16.905190  -16.852999  -16.852480  -17.770401  -17.465988\n",
       "25%    -14.885490  -14.720961  -14.714276  -14.713652  -15.291898\n",
       "50%    -14.378997  -14.207374  -14.179389  -14.236647  -14.503001\n",
       "75%    -13.879800  -13.697322  -13.721084  -13.718577  -13.980211\n",
       "max    -12.676982  -12.406523  -12.526241  -12.388917  -12.943096"
      ]
     },
     "execution_count": 34,
     "metadata": {},
     "output_type": "execute_result"
    }
   ],
   "source": [
    "D = 5\n",
    "\n",
    "degrees = 2**np.arange(D)\n",
    "all_scores = np.zeros((K, D))\n",
    "for i, d in enumerate(degrees):\n",
    "    scores = cv_mse(d)\n",
    "    all_scores[:, i] = scores\n",
    "df = pd.DataFrame(-np.log(all_scores), columns=degrees)\n",
    "df.describe()"
   ]
  },
  {
   "cell_type": "code",
   "execution_count": 35,
   "metadata": {},
   "outputs": [
    {
     "data": {
      "image/png": "[encoded data removed]",
      "text/plain": [
       "<matplotlib.figure.Figure at 0x11506570>"
      ]
     },
     "metadata": {},
     "output_type": "display_data"
    }
   ],
   "source": [
    "df.mean().plot(kind=\"bar\", rot=0, yerr=df.std())\n",
    "plt.show()"
   ]
  },
  {
   "cell_type": "markdown",
   "metadata": {},
   "source": [
    "# 하이퍼 모수 최적화"
   ]
  },
  {
   "cell_type": "code",
   "execution_count": 36,
   "metadata": {},
   "outputs": [
    {
     "name": "stderr",
     "output_type": "stream",
     "text": [
      "C:\\ProgramData\\Anaconda3\\lib\\site-packages\\sklearn\\linear_model\\coordinate_descent.py:491: ConvergenceWarning: Objective did not converge. You might want to increase the number of iterations. Fitting data with very small alpha may cause precision problems.\n",
      "  ConvergenceWarning)\n",
      "C:\\ProgramData\\Anaconda3\\lib\\site-packages\\sklearn\\linear_model\\coordinate_descent.py:491: ConvergenceWarning: Objective did not converge. You might want to increase the number of iterations. Fitting data with very small alpha may cause precision problems.\n",
      "  ConvergenceWarning)\n",
      "C:\\ProgramData\\Anaconda3\\lib\\site-packages\\sklearn\\linear_model\\coordinate_descent.py:491: ConvergenceWarning: Objective did not converge. You might want to increase the number of iterations. Fitting data with very small alpha may cause precision problems.\n",
      "  ConvergenceWarning)\n",
      "C:\\ProgramData\\Anaconda3\\lib\\site-packages\\sklearn\\linear_model\\coordinate_descent.py:491: ConvergenceWarning: Objective did not converge. You might want to increase the number of iterations. Fitting data with very small alpha may cause precision problems.\n",
      "  ConvergenceWarning)\n"
     ]
    },
    {
     "data": {
      "image/png": "[encoded data removed]",
      "text/plain": [
       "<matplotlib.figure.Figure at 0xf28b030>"
      ]
     },
     "metadata": {},
     "output_type": "display_data"
    }
   ],
   "source": [
    "from sklearn.linear_model import LassoCV\n",
    "from sklearn.linear_model import Lasso\n",
    "from sklearn.cross_validation import cross_val_score\n",
    "from sklearn.preprocessing import PolynomialFeatures\n",
    "from sklearn.pipeline import make_pipeline\n",
    "from sklearn.linear_model import LinearRegression, Ridge, Lasso, ElasticNet\n",
    "\n",
    "model = Lasso()\n",
    "alphas = np.logspace(-10, -.5, 50)\n",
    "\n",
    "scores = list()\n",
    "\n",
    "for alpha in alphas:\n",
    "    model.alpha = alpha\n",
    "    this_scores = cross_val_score(model, X, y, \"neg_mean_squared_error\", cv=3)\n",
    "    scores.append(np.mean(this_scores))\n",
    "\n",
    "plt.semilogx(alphas, scores)\n",
    "plt.ylabel('CV score')\n",
    "plt.xlabel('alpha')\n",
    "plt.axhline(np.max(scores), linestyle=':')\n",
    "plt.show()"
   ]
  },
  {
   "cell_type": "code",
   "execution_count": 37,
   "metadata": {},
   "outputs": [
    {
     "name": "stderr",
     "output_type": "stream",
     "text": [
      "C:\\ProgramData\\Anaconda3\\lib\\site-packages\\sklearn\\linear_model\\coordinate_descent.py:1094: DataConversionWarning: A column-vector y was passed when a 1d array was expected. Please change the shape of y to (n_samples, ), for example using ravel().\n",
      "  y = column_or_1d(y, warn=True)\n",
      "C:\\ProgramData\\Anaconda3\\lib\\site-packages\\sklearn\\linear_model\\coordinate_descent.py:491: ConvergenceWarning: Objective did not converge. You might want to increase the number of iterations. Fitting data with very small alpha may cause precision problems.\n",
      "  ConvergenceWarning)\n"
     ]
    },
    {
     "name": "stdout",
     "output_type": "stream",
     "text": [
      "2.71561210232e-10\n"
     ]
    },
    {
     "data": {
      "image/png": "[encoded data removed]",
      "text/plain": [
       "<matplotlib.figure.Figure at 0x11664230>"
      ]
     },
     "metadata": {},
     "output_type": "display_data"
    }
   ],
   "source": [
    "from sklearn.linear_model import LassoCV\n",
    "\n",
    "alphas = np.logspace(-20, -.5, 500)\n",
    "lasso_cv = LassoCV(alphas=alphas, cv=120)\n",
    "lasso_cv.fit(X, y)\n",
    "\n",
    "print(lasso_cv.alpha_ )\n",
    "\n",
    "scores = -lasso_cv.mse_path_.mean(axis=1)\n",
    "plt.semilogx(lasso_cv.alphas_, scores)\n",
    "plt.axhline(np.max(scores), linestyle=':')    \n",
    "plt.axvline(lasso_cv.alpha_ , linestyle=':')   \n",
    "plt.ylabel('CV score')\n",
    "plt.xlabel('alpha')\n",
    "plt.show()"
   ]
  },
  {
   "cell_type": "code",
   "execution_count": 38,
   "metadata": {},
   "outputs": [
    {
     "ename": "PatsyError",
     "evalue": "Error evaluating factor: NameError: name 'KM' is not defined\n    Price ~  scale(Age_08_04) + scale(I(Age_08_04**2)) + scale(KM) + Airco + Automatic_airco + CD_Player + Central_Lock + Boardcomputer\n                                                         ^^^^^^^^^",
     "output_type": "error",
     "traceback": [
      "\u001b[1;31m---------------------------------------------------------------------------\u001b[0m",
      "\u001b[1;31mNameError\u001b[0m                                 Traceback (most recent call last)",
      "\u001b[1;32mC:\\ProgramData\\Anaconda3\\lib\\site-packages\\patsy\\compat.py\u001b[0m in \u001b[0;36mcall_and_wrap_exc\u001b[1;34m(msg, origin, f, *args, **kwargs)\u001b[0m\n\u001b[0;32m    116\u001b[0m     \u001b[1;32mtry\u001b[0m\u001b[1;33m:\u001b[0m\u001b[1;33m\u001b[0m\u001b[0m\n\u001b[1;32m--> 117\u001b[1;33m         \u001b[1;32mreturn\u001b[0m \u001b[0mf\u001b[0m\u001b[1;33m(\u001b[0m\u001b[1;33m*\u001b[0m\u001b[0margs\u001b[0m\u001b[1;33m,\u001b[0m \u001b[1;33m**\u001b[0m\u001b[0mkwargs\u001b[0m\u001b[1;33m)\u001b[0m\u001b[1;33m\u001b[0m\u001b[0m\n\u001b[0m\u001b[0;32m    118\u001b[0m     \u001b[1;32mexcept\u001b[0m \u001b[0mException\u001b[0m \u001b[1;32mas\u001b[0m \u001b[0me\u001b[0m\u001b[1;33m:\u001b[0m\u001b[1;33m\u001b[0m\u001b[0m\n",
      "\u001b[1;32mC:\\ProgramData\\Anaconda3\\lib\\site-packages\\patsy\\eval.py\u001b[0m in \u001b[0;36meval\u001b[1;34m(self, expr, source_name, inner_namespace)\u001b[0m\n\u001b[0;32m    165\u001b[0m         return eval(code, {}, VarLookupDict([inner_namespace]\n\u001b[1;32m--> 166\u001b[1;33m                                             + self._namespaces))\n\u001b[0m\u001b[0;32m    167\u001b[0m \u001b[1;33m\u001b[0m\u001b[0m\n",
      "\u001b[1;32m<string>\u001b[0m in \u001b[0;36m<module>\u001b[1;34m()\u001b[0m\n",
      "\u001b[1;31mNameError\u001b[0m: name 'KM' is not defined",
      "\nThe above exception was the direct cause of the following exception:\n",
      "\u001b[1;31mPatsyError\u001b[0m                                Traceback (most recent call last)",
      "\u001b[1;32m<ipython-input-38-38fdd9b11cc3>\u001b[0m in \u001b[0;36m<module>\u001b[1;34m()\u001b[0m\n\u001b[1;32m----> 1\u001b[1;33m \u001b[0mmodel_first\u001b[0m \u001b[1;33m=\u001b[0m \u001b[0msm\u001b[0m\u001b[1;33m.\u001b[0m\u001b[0mOLS\u001b[0m\u001b[1;33m.\u001b[0m\u001b[0mfrom_formula\u001b[0m\u001b[1;33m(\u001b[0m \u001b[1;34m\"Price ~  scale(Age_08_04) + scale(I(Age_08_04**2)) + scale(KM) + Airco + Automatic_airco + CD_Player + Central_Lock + Boardcomputer\"\u001b[0m\u001b[1;33m,\u001b[0m \u001b[0mdata\u001b[0m\u001b[1;33m=\u001b[0m\u001b[0mdf\u001b[0m\u001b[1;33m)\u001b[0m\u001b[1;33m\u001b[0m\u001b[0m\n\u001b[0m\u001b[0;32m      2\u001b[0m \u001b[0mprint\u001b[0m\u001b[1;33m(\u001b[0m\u001b[0mmodel_first\u001b[0m\u001b[1;33m.\u001b[0m\u001b[0mfit\u001b[0m\u001b[1;33m(\u001b[0m\u001b[1;33m)\u001b[0m\u001b[1;33m.\u001b[0m\u001b[0msummary\u001b[0m\u001b[1;33m(\u001b[0m\u001b[1;33m)\u001b[0m\u001b[1;33m)\u001b[0m\u001b[1;33m\u001b[0m\u001b[0m\n",
      "\u001b[1;32mC:\\ProgramData\\Anaconda3\\lib\\site-packages\\statsmodels\\base\\model.py\u001b[0m in \u001b[0;36mfrom_formula\u001b[1;34m(cls, formula, data, subset, drop_cols, *args, **kwargs)\u001b[0m\n\u001b[0;32m    153\u001b[0m \u001b[1;33m\u001b[0m\u001b[0m\n\u001b[0;32m    154\u001b[0m         tmp = handle_formula_data(data, None, formula, depth=eval_env,\n\u001b[1;32m--> 155\u001b[1;33m                                   missing=missing)\n\u001b[0m\u001b[0;32m    156\u001b[0m         \u001b[1;33m(\u001b[0m\u001b[1;33m(\u001b[0m\u001b[0mendog\u001b[0m\u001b[1;33m,\u001b[0m \u001b[0mexog\u001b[0m\u001b[1;33m)\u001b[0m\u001b[1;33m,\u001b[0m \u001b[0mmissing_idx\u001b[0m\u001b[1;33m,\u001b[0m \u001b[0mdesign_info\u001b[0m\u001b[1;33m)\u001b[0m \u001b[1;33m=\u001b[0m \u001b[0mtmp\u001b[0m\u001b[1;33m\u001b[0m\u001b[0m\n\u001b[0;32m    157\u001b[0m \u001b[1;33m\u001b[0m\u001b[0m\n",
      "\u001b[1;32mC:\\ProgramData\\Anaconda3\\lib\\site-packages\\statsmodels\\formula\\formulatools.py\u001b[0m in \u001b[0;36mhandle_formula_data\u001b[1;34m(Y, X, formula, depth, missing)\u001b[0m\n\u001b[0;32m     63\u001b[0m         \u001b[1;32mif\u001b[0m \u001b[0mdata_util\u001b[0m\u001b[1;33m.\u001b[0m\u001b[0m_is_using_pandas\u001b[0m\u001b[1;33m(\u001b[0m\u001b[0mY\u001b[0m\u001b[1;33m,\u001b[0m \u001b[1;32mNone\u001b[0m\u001b[1;33m)\u001b[0m\u001b[1;33m:\u001b[0m\u001b[1;33m\u001b[0m\u001b[0m\n\u001b[0;32m     64\u001b[0m             result = dmatrices(formula, Y, depth, return_type='dataframe',\n\u001b[1;32m---> 65\u001b[1;33m                                NA_action=na_action)\n\u001b[0m\u001b[0;32m     66\u001b[0m         \u001b[1;32melse\u001b[0m\u001b[1;33m:\u001b[0m\u001b[1;33m\u001b[0m\u001b[0m\n\u001b[0;32m     67\u001b[0m             result = dmatrices(formula, Y, depth, return_type='dataframe',\n",
      "\u001b[1;32mC:\\ProgramData\\Anaconda3\\lib\\site-packages\\patsy\\highlevel.py\u001b[0m in \u001b[0;36mdmatrices\u001b[1;34m(formula_like, data, eval_env, NA_action, return_type)\u001b[0m\n\u001b[0;32m    308\u001b[0m     \u001b[0meval_env\u001b[0m \u001b[1;33m=\u001b[0m \u001b[0mEvalEnvironment\u001b[0m\u001b[1;33m.\u001b[0m\u001b[0mcapture\u001b[0m\u001b[1;33m(\u001b[0m\u001b[0meval_env\u001b[0m\u001b[1;33m,\u001b[0m \u001b[0mreference\u001b[0m\u001b[1;33m=\u001b[0m\u001b[1;36m1\u001b[0m\u001b[1;33m)\u001b[0m\u001b[1;33m\u001b[0m\u001b[0m\n\u001b[0;32m    309\u001b[0m     (lhs, rhs) = _do_highlevel_design(formula_like, data, eval_env,\n\u001b[1;32m--> 310\u001b[1;33m                                       NA_action, return_type)\n\u001b[0m\u001b[0;32m    311\u001b[0m     \u001b[1;32mif\u001b[0m \u001b[0mlhs\u001b[0m\u001b[1;33m.\u001b[0m\u001b[0mshape\u001b[0m\u001b[1;33m[\u001b[0m\u001b[1;36m1\u001b[0m\u001b[1;33m]\u001b[0m \u001b[1;33m==\u001b[0m \u001b[1;36m0\u001b[0m\u001b[1;33m:\u001b[0m\u001b[1;33m\u001b[0m\u001b[0m\n\u001b[0;32m    312\u001b[0m         \u001b[1;32mraise\u001b[0m \u001b[0mPatsyError\u001b[0m\u001b[1;33m(\u001b[0m\u001b[1;34m\"model is missing required outcome variables\"\u001b[0m\u001b[1;33m)\u001b[0m\u001b[1;33m\u001b[0m\u001b[0m\n",
      "\u001b[1;32mC:\\ProgramData\\Anaconda3\\lib\\site-packages\\patsy\\highlevel.py\u001b[0m in \u001b[0;36m_do_highlevel_design\u001b[1;34m(formula_like, data, eval_env, NA_action, return_type)\u001b[0m\n\u001b[0;32m    163\u001b[0m         \u001b[1;32mreturn\u001b[0m \u001b[0miter\u001b[0m\u001b[1;33m(\u001b[0m\u001b[1;33m[\u001b[0m\u001b[0mdata\u001b[0m\u001b[1;33m]\u001b[0m\u001b[1;33m)\u001b[0m\u001b[1;33m\u001b[0m\u001b[0m\n\u001b[0;32m    164\u001b[0m     design_infos = _try_incr_builders(formula_like, data_iter_maker, eval_env,\n\u001b[1;32m--> 165\u001b[1;33m                                       NA_action)\n\u001b[0m\u001b[0;32m    166\u001b[0m     \u001b[1;32mif\u001b[0m \u001b[0mdesign_infos\u001b[0m \u001b[1;32mis\u001b[0m \u001b[1;32mnot\u001b[0m \u001b[1;32mNone\u001b[0m\u001b[1;33m:\u001b[0m\u001b[1;33m\u001b[0m\u001b[0m\n\u001b[0;32m    167\u001b[0m         return build_design_matrices(design_infos, data,\n",
      "\u001b[1;32mC:\\ProgramData\\Anaconda3\\lib\\site-packages\\patsy\\highlevel.py\u001b[0m in \u001b[0;36m_try_incr_builders\u001b[1;34m(formula_like, data_iter_maker, eval_env, NA_action)\u001b[0m\n\u001b[0;32m     68\u001b[0m                                       \u001b[0mdata_iter_maker\u001b[0m\u001b[1;33m,\u001b[0m\u001b[1;33m\u001b[0m\u001b[0m\n\u001b[0;32m     69\u001b[0m                                       \u001b[0meval_env\u001b[0m\u001b[1;33m,\u001b[0m\u001b[1;33m\u001b[0m\u001b[0m\n\u001b[1;32m---> 70\u001b[1;33m                                       NA_action)\n\u001b[0m\u001b[0;32m     71\u001b[0m     \u001b[1;32melse\u001b[0m\u001b[1;33m:\u001b[0m\u001b[1;33m\u001b[0m\u001b[0m\n\u001b[0;32m     72\u001b[0m         \u001b[1;32mreturn\u001b[0m \u001b[1;32mNone\u001b[0m\u001b[1;33m\u001b[0m\u001b[0m\n",
      "\u001b[1;32mC:\\ProgramData\\Anaconda3\\lib\\site-packages\\patsy\\build.py\u001b[0m in \u001b[0;36mdesign_matrix_builders\u001b[1;34m(termlists, data_iter_maker, eval_env, NA_action)\u001b[0m\n\u001b[0;32m    687\u001b[0m         \u001b[1;32mfor\u001b[0m \u001b[0mterm\u001b[0m \u001b[1;32min\u001b[0m \u001b[0mtermlist\u001b[0m\u001b[1;33m:\u001b[0m\u001b[1;33m\u001b[0m\u001b[0m\n\u001b[0;32m    688\u001b[0m             \u001b[0mall_factors\u001b[0m\u001b[1;33m.\u001b[0m\u001b[0mupdate\u001b[0m\u001b[1;33m(\u001b[0m\u001b[0mterm\u001b[0m\u001b[1;33m.\u001b[0m\u001b[0mfactors\u001b[0m\u001b[1;33m)\u001b[0m\u001b[1;33m\u001b[0m\u001b[0m\n\u001b[1;32m--> 689\u001b[1;33m     \u001b[0mfactor_states\u001b[0m \u001b[1;33m=\u001b[0m \u001b[0m_factors_memorize\u001b[0m\u001b[1;33m(\u001b[0m\u001b[0mall_factors\u001b[0m\u001b[1;33m,\u001b[0m \u001b[0mdata_iter_maker\u001b[0m\u001b[1;33m,\u001b[0m \u001b[0meval_env\u001b[0m\u001b[1;33m)\u001b[0m\u001b[1;33m\u001b[0m\u001b[0m\n\u001b[0m\u001b[0;32m    690\u001b[0m     \u001b[1;31m# Now all the factors have working eval methods, so we can evaluate them\u001b[0m\u001b[1;33m\u001b[0m\u001b[1;33m\u001b[0m\u001b[0m\n\u001b[0;32m    691\u001b[0m     \u001b[1;31m# on some data to find out what type of data they return.\u001b[0m\u001b[1;33m\u001b[0m\u001b[1;33m\u001b[0m\u001b[0m\n",
      "\u001b[1;32mC:\\ProgramData\\Anaconda3\\lib\\site-packages\\patsy\\build.py\u001b[0m in \u001b[0;36m_factors_memorize\u001b[1;34m(factors, data_iter_maker, eval_env)\u001b[0m\n\u001b[0;32m    366\u001b[0m             \u001b[1;32mfor\u001b[0m \u001b[0mfactor\u001b[0m \u001b[1;32min\u001b[0m \u001b[0mmemorize_needed\u001b[0m\u001b[1;33m:\u001b[0m\u001b[1;33m\u001b[0m\u001b[0m\n\u001b[0;32m    367\u001b[0m                 \u001b[0mstate\u001b[0m \u001b[1;33m=\u001b[0m \u001b[0mfactor_states\u001b[0m\u001b[1;33m[\u001b[0m\u001b[0mfactor\u001b[0m\u001b[1;33m]\u001b[0m\u001b[1;33m\u001b[0m\u001b[0m\n\u001b[1;32m--> 368\u001b[1;33m                 \u001b[0mfactor\u001b[0m\u001b[1;33m.\u001b[0m\u001b[0mmemorize_chunk\u001b[0m\u001b[1;33m(\u001b[0m\u001b[0mstate\u001b[0m\u001b[1;33m,\u001b[0m \u001b[0mwhich_pass\u001b[0m\u001b[1;33m,\u001b[0m \u001b[0mdata\u001b[0m\u001b[1;33m)\u001b[0m\u001b[1;33m\u001b[0m\u001b[0m\n\u001b[0m\u001b[0;32m    369\u001b[0m         \u001b[1;32mfor\u001b[0m \u001b[0mfactor\u001b[0m \u001b[1;32min\u001b[0m \u001b[0mlist\u001b[0m\u001b[1;33m(\u001b[0m\u001b[0mmemorize_needed\u001b[0m\u001b[1;33m)\u001b[0m\u001b[1;33m:\u001b[0m\u001b[1;33m\u001b[0m\u001b[0m\n\u001b[0;32m    370\u001b[0m             \u001b[0mfactor\u001b[0m\u001b[1;33m.\u001b[0m\u001b[0mmemorize_finish\u001b[0m\u001b[1;33m(\u001b[0m\u001b[0mfactor_states\u001b[0m\u001b[1;33m[\u001b[0m\u001b[0mfactor\u001b[0m\u001b[1;33m]\u001b[0m\u001b[1;33m,\u001b[0m \u001b[0mwhich_pass\u001b[0m\u001b[1;33m)\u001b[0m\u001b[1;33m\u001b[0m\u001b[0m\n",
      "\u001b[1;32mC:\\ProgramData\\Anaconda3\\lib\\site-packages\\patsy\\eval.py\u001b[0m in \u001b[0;36mmemorize_chunk\u001b[1;34m(self, state, which_pass, data)\u001b[0m\n\u001b[0;32m    555\u001b[0m             self._eval(state[\"memorize_code\"][obj_name],\n\u001b[0;32m    556\u001b[0m                        \u001b[0mstate\u001b[0m\u001b[1;33m,\u001b[0m\u001b[1;33m\u001b[0m\u001b[0m\n\u001b[1;32m--> 557\u001b[1;33m                        data)\n\u001b[0m\u001b[0;32m    558\u001b[0m \u001b[1;33m\u001b[0m\u001b[0m\n\u001b[0;32m    559\u001b[0m     \u001b[1;32mdef\u001b[0m \u001b[0mmemorize_finish\u001b[0m\u001b[1;33m(\u001b[0m\u001b[0mself\u001b[0m\u001b[1;33m,\u001b[0m \u001b[0mstate\u001b[0m\u001b[1;33m,\u001b[0m \u001b[0mwhich_pass\u001b[0m\u001b[1;33m)\u001b[0m\u001b[1;33m:\u001b[0m\u001b[1;33m\u001b[0m\u001b[0m\n",
      "\u001b[1;32mC:\\ProgramData\\Anaconda3\\lib\\site-packages\\patsy\\eval.py\u001b[0m in \u001b[0;36m_eval\u001b[1;34m(self, code, memorize_state, data)\u001b[0m\n\u001b[0;32m    549\u001b[0m                                  \u001b[0mmemorize_state\u001b[0m\u001b[1;33m[\u001b[0m\u001b[1;34m\"eval_env\"\u001b[0m\u001b[1;33m]\u001b[0m\u001b[1;33m.\u001b[0m\u001b[0meval\u001b[0m\u001b[1;33m,\u001b[0m\u001b[1;33m\u001b[0m\u001b[0m\n\u001b[0;32m    550\u001b[0m                                  \u001b[0mcode\u001b[0m\u001b[1;33m,\u001b[0m\u001b[1;33m\u001b[0m\u001b[0m\n\u001b[1;32m--> 551\u001b[1;33m                                  inner_namespace=inner_namespace)\n\u001b[0m\u001b[0;32m    552\u001b[0m \u001b[1;33m\u001b[0m\u001b[0m\n\u001b[0;32m    553\u001b[0m     \u001b[1;32mdef\u001b[0m \u001b[0mmemorize_chunk\u001b[0m\u001b[1;33m(\u001b[0m\u001b[0mself\u001b[0m\u001b[1;33m,\u001b[0m \u001b[0mstate\u001b[0m\u001b[1;33m,\u001b[0m \u001b[0mwhich_pass\u001b[0m\u001b[1;33m,\u001b[0m \u001b[0mdata\u001b[0m\u001b[1;33m)\u001b[0m\u001b[1;33m:\u001b[0m\u001b[1;33m\u001b[0m\u001b[0m\n",
      "\u001b[1;32mC:\\ProgramData\\Anaconda3\\lib\\site-packages\\patsy\\compat.py\u001b[0m in \u001b[0;36mcall_and_wrap_exc\u001b[1;34m(msg, origin, f, *args, **kwargs)\u001b[0m\n\u001b[0;32m    122\u001b[0m                                  origin)\n\u001b[0;32m    123\u001b[0m             \u001b[1;31m# Use 'exec' to hide this syntax from the Python 2 parser:\u001b[0m\u001b[1;33m\u001b[0m\u001b[1;33m\u001b[0m\u001b[0m\n\u001b[1;32m--> 124\u001b[1;33m             \u001b[0mexec\u001b[0m\u001b[1;33m(\u001b[0m\u001b[1;34m\"raise new_exc from e\"\u001b[0m\u001b[1;33m)\u001b[0m\u001b[1;33m\u001b[0m\u001b[0m\n\u001b[0m\u001b[0;32m    125\u001b[0m         \u001b[1;32melse\u001b[0m\u001b[1;33m:\u001b[0m\u001b[1;33m\u001b[0m\u001b[0m\n\u001b[0;32m    126\u001b[0m             \u001b[1;31m# In python 2, we just let the original exception escape -- better\u001b[0m\u001b[1;33m\u001b[0m\u001b[1;33m\u001b[0m\u001b[0m\n",
      "\u001b[1;32mC:\\ProgramData\\Anaconda3\\lib\\site-packages\\patsy\\compat.py\u001b[0m in \u001b[0;36m<module>\u001b[1;34m()\u001b[0m\n",
      "\u001b[1;31mPatsyError\u001b[0m: Error evaluating factor: NameError: name 'KM' is not defined\n    Price ~  scale(Age_08_04) + scale(I(Age_08_04**2)) + scale(KM) + Airco + Automatic_airco + CD_Player + Central_Lock + Boardcomputer\n                                                         ^^^^^^^^^"
     ]
    }
   ],
   "source": [
    "model_first = sm.OLS.from_formula( \"Price ~  scale(Age_08_04) + scale(I(Age_08_04**2)) + scale(KM) + Airco + Automatic_airco + CD_Player + Central_Lock + Boardcomputer\", data=df)\n",
    "print(model_first.fit().summary())"
   ]
  },
  {
   "cell_type": "code",
   "execution_count": null,
   "metadata": {
    "collapsed": true
   },
   "outputs": [],
   "source": [
    " model = LinearRegression(fit_intercept=True)"
   ]
  },
  {
   "cell_type": "code",
   "execution_count": null,
   "metadata": {},
   "outputs": [],
   "source": [
    "y = df_y['Price']\n",
    "X = df_x['Age_08_04','I(Age_08_04 ** 2)' ,'KM','Airco','Automatic_airco', 'CD_Player','Central_Lock','Boardcomputer']"
   ]
  },
  {
   "cell_type": "code",
   "execution_count": null,
   "metadata": {},
   "outputs": [],
   "source": [
    " model = model_first.fit(X, y)"
   ]
  },
  {
   "cell_type": "code",
   "execution_count": null,
   "metadata": {
    "collapsed": true
   },
   "outputs": [],
   "source": []
  },
  {
   "cell_type": "code",
   "execution_count": null,
   "metadata": {
    "collapsed": true
   },
   "outputs": [],
   "source": []
  },
  {
   "cell_type": "code",
   "execution_count": null,
   "metadata": {
    "collapsed": true
   },
   "outputs": [],
   "source": []
  },
  {
   "cell_type": "code",
   "execution_count": null,
   "metadata": {
    "collapsed": true
   },
   "outputs": [],
   "source": []
  },
  {
   "cell_type": "code",
   "execution_count": null,
   "metadata": {
    "collapsed": true
   },
   "outputs": [],
   "source": []
  },
  {
   "cell_type": "code",
   "execution_count": null,
   "metadata": {
    "collapsed": true
   },
   "outputs": [],
   "source": []
  },
  {
   "cell_type": "code",
   "execution_count": null,
   "metadata": {
    "collapsed": true
   },
   "outputs": [],
   "source": []
  },
  {
   "cell_type": "code",
   "execution_count": null,
   "metadata": {
    "collapsed": true
   },
   "outputs": [],
   "source": []
  }
 ],
 "metadata": {
  "kernelspec": {
   "display_name": "Python 3",
   "language": "python",
   "name": "python3"
  },
  "language_info": {
   "codemirror_mode": {
    "name": "ipython",
    "version": 3
   },
   "file_extension": ".py",
   "mimetype": "text/x-python",
   "name": "python",
   "nbconvert_exporter": "python",
   "pygments_lexer": "ipython3",
   "version": "3.6.2"
  }
 },
 "nbformat": 4,
 "nbformat_minor": 2
}
